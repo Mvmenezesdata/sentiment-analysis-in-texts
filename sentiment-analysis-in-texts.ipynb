{
 "cells": [
  {
   "cell_type": "markdown",
   "metadata": {},
   "source": [
    "<a href=\"https://ibb.co/VQ1S9tV\"><img src=\"https://i.ibb.co/SdjnyPN/Image.jpg\" alt=\"Image\" border=\"0\"></a>"
   ]
  },
  {
   "cell_type": "markdown",
   "metadata": {},
   "source": [
    "# In this project we are going to predict the sentiment of a given text, trying to predict if the text is positive, negative or neutral in nature."
   ]
  },
  {
   "cell_type": "markdown",
   "metadata": {},
   "source": [
    "### Importing necessary libraries."
   ]
  },
  {
   "cell_type": "code",
   "execution_count": 2,
   "metadata": {},
   "outputs": [],
   "source": [
    "import pandas as pd\n",
    "import numpy as np\n",
    "import matplotlib.cm as cm\n",
    "import matplotlib.pyplot as plt\n",
    "from matplotlib import rcParams\n",
    "import re\n",
    "import nltk\n",
    "import string\n",
    "import nlp_utils\n",
    "import collections\n",
    "import contractions\n",
    "import nlp_utils as nu\n",
    "from collections import Counter\n",
    "from nltk.corpus import stopwords\n",
    "from nltk.stem import WordNetLemmatizer\n",
    "from wordcloud import WordCloud, STOPWORDS\n",
    "from nltk.tokenize import word_tokenize,sent_tokenize\n",
    "from sklearn.feature_extraction.text import TfidfVectorizer\n",
    "from nltk.stem import PorterStemmer, LancasterStemmer, SnowballStemmer\n",
    "from sklearn.preprocessing import LabelEncoder\n",
    "from sklearn.model_selection import train_test_split\n",
    "from sklearn.linear_model import LogisticRegression\n",
    "from sklearn.metrics import accuracy_score\n",
    "%matplotlib inline\n",
    "import warnings\n",
    "warnings.filterwarnings('ignore')"
   ]
  },
  {
   "cell_type": "code",
   "execution_count": 4,
   "metadata": {},
   "outputs": [],
   "source": [
    "# Loading data. \n",
    "with open('TextAnalytics.txt','r') as f:\n",
    "    text = f.read()"
   ]
  },
  {
   "cell_type": "code",
   "execution_count": null,
   "metadata": {},
   "outputs": [],
   "source": [
    "text\n",
    "### The data is in the form of a text."
   ]
  },
  {
   "cell_type": "markdown",
   "metadata": {},
   "source": [
    "# Text Normalization"
   ]
  },
  {
   "cell_type": "markdown",
   "metadata": {},
   "source": [
    "### Text normalization is the process of transforming a text into a canonical (standard) form. For example, the word “gooood” and “gud” can be transformed to “good”, its canonical form. Another example is mapping of near identical words such as “stopwords”, “stop-words” and “stop words” to just “stopwords”"
   ]
  },
  {
   "cell_type": "code",
   "execution_count": 6,
   "metadata": {},
   "outputs": [],
   "source": [
    "# splitting at ( \\n ).\n",
    "text=text.split('\\n')\n",
    "# Separating at new line using '\\n'  "
   ]
  },
  {
   "cell_type": "code",
   "execution_count": 7,
   "metadata": {},
   "outputs": [],
   "source": [
    "# splitting at ( \\t ).\n",
    "corpus = [text]\n",
    "for sent in text:\n",
    "    corpus.append(sent.split('\\t'))\n",
    "# Splitting String by tab(\\t)    "
   ]
  },
  {
   "cell_type": "code",
   "execution_count": 8,
   "metadata": {},
   "outputs": [],
   "source": [
    "letters_only = re.sub(r'[^a-zA-Z]',  \n",
    "                          \" \",          \n",
    "                          str(corpus))\n",
    "# Taking only letters"
   ]
  },
  {
   "cell_type": "markdown",
   "metadata": {},
   "source": [
    "### Tokenization\n",
    "What is Tokenization?\n",
    "Tokenization is the process by which big quantity of text is divided into smaller parts called tokens.\n",
    "\n",
    "Natural language processing is used for building applications such as Text classification, intelligent chatbot, sentimental analysis, language translation, etc. It becomes vital to understand the pattern in the text to achieve the above-stated purpose. These tokens are very useful for finding such patterns as well as is considered as a base step for stemming and lemmatization.\n",
    "\n",
    "Sentence tokenization is the process of splitting text into individual sentences.It does this by looking for the types of textual constructs that confuse the tokenizer and replacing them with single words."
   ]
  },
  {
   "cell_type": "code",
   "execution_count": null,
   "metadata": {},
   "outputs": [],
   "source": [
    "# converting to lowercase.\n",
    "letters_only=letters_only.lower()\n",
    "\n",
    "token=nltk.sent_tokenize(letters_only)\n",
    "token"
   ]
  },
  {
   "cell_type": "markdown",
   "metadata": {},
   "source": [
    "### Alphanumeric characters"
   ]
  },
  {
   "cell_type": "code",
   "execution_count": null,
   "metadata": {},
   "outputs": [],
   "source": [
    "def num_dec_al(word):\n",
    "    if word.isnumeric():\n",
    "        return 'xxxxxx'\n",
    "    elif word.isdecimal():\n",
    "        return 'xxx...'\n",
    "    elif word.isalpha():\n",
    "        return word\n",
    "    else:\n",
    "        return 'xxxaaa'\n",
    "\n",
    "def clean_nda(token):\n",
    "    tokens = nlp_utils.w_tokenization(token)\n",
    "    map_list = list(map(num_dec_al,tokens))\n",
    "    return \" \".join(map_list)\n",
    "\n",
    "corpus_nda = list(map(clean_nda,token))\n",
    "\n",
    "corpus_nda\n",
    "### Alpha numeric characters and decimals have been replaced with characters"
   ]
  },
  {
   "cell_type": "markdown",
   "metadata": {},
   "source": [
    "### Removing Contractions.\n",
    "It is a process where words like isn't, didn't are expanded to is not did not. \n",
    "isn't --> is not, \n",
    "I'm --> I am, \n",
    "they're --> they are,\n",
    "shouldn't --> should not,\n",
    "can't --> can not"
   ]
  },
  {
   "cell_type": "code",
   "execution_count": 11,
   "metadata": {},
   "outputs": [],
   "source": [
    "conm = contractions.CONTRACTION_MAP\n",
    "def contraction_remove(corpus_nda):\n",
    "    for key,value in conm.items():\n",
    "        corpus_nda = re.sub(r\"{}\".format(key),'{}'.format(value),corpus_nda)\n",
    "        \n",
    "    return corpus_nda\n",
    "\n",
    "special = string.punctuation\n",
    "def w_tokenization(corpus_nda):\n",
    "    # convert into lower case\n",
    "    corpus_nda = corpus_nda.lower()\n",
    "    # contraction\n",
    "    corpus_nda = contraction_remove(corpus_nda)\n",
    "    # \n",
    "    tokens = nltk.word_tokenize(corpus_nda) # word tokens\n",
    "## contractions have been expanded and the letters have been converted to lowercase.    "
   ]
  },
  {
   "cell_type": "code",
   "execution_count": null,
   "metadata": {},
   "outputs": [],
   "source": [
    "corpus_nda\n",
    "## corpus_nda with expanded contractions and converted to lowercase.    "
   ]
  },
  {
   "cell_type": "code",
   "execution_count": 13,
   "metadata": {},
   "outputs": [],
   "source": [
    "data = [corpus_nda]\n",
    "for sent in text:\n",
    "    data.append(sent.split('\\t'))\n",
    "# Separating at tab     "
   ]
  },
  {
   "cell_type": "code",
   "execution_count": 14,
   "metadata": {},
   "outputs": [],
   "source": [
    "data.append(sent.split('\\n'))\n",
    "# Separating at newline"
   ]
  },
  {
   "cell_type": "code",
   "execution_count": null,
   "metadata": {},
   "outputs": [],
   "source": [
    "data\n",
    "# Cleaned text"
   ]
  },
  {
   "cell_type": "code",
   "execution_count": 16,
   "metadata": {},
   "outputs": [],
   "source": [
    "df = pd.DataFrame(data)\n",
    "## Saving the data into a dataframe."
   ]
  },
  {
   "cell_type": "code",
   "execution_count": 17,
   "metadata": {},
   "outputs": [
    {
     "data": {
      "text/html": [
       "<div>\n",
       "<style scoped>\n",
       "    .dataframe tbody tr th:only-of-type {\n",
       "        vertical-align: middle;\n",
       "    }\n",
       "\n",
       "    .dataframe tbody tr th {\n",
       "        vertical-align: top;\n",
       "    }\n",
       "\n",
       "    .dataframe thead th {\n",
       "        text-align: right;\n",
       "    }\n",
       "</style>\n",
       "<table border=\"1\" class=\"dataframe\">\n",
       "  <thead>\n",
       "    <tr style=\"text-align: right;\">\n",
       "      <th></th>\n",
       "      <th>0</th>\n",
       "      <th>1</th>\n",
       "      <th>2</th>\n",
       "      <th>3</th>\n",
       "      <th>4</th>\n",
       "      <th>5</th>\n",
       "      <th>6</th>\n",
       "    </tr>\n",
       "  </thead>\n",
       "  <tbody>\n",
       "    <tr>\n",
       "      <td>0</td>\n",
       "      <td>one of the other reviewers has mentioned that ...</td>\n",
       "      <td>None</td>\n",
       "      <td>None</td>\n",
       "      <td>None</td>\n",
       "      <td>None</td>\n",
       "      <td>None</td>\n",
       "      <td>None</td>\n",
       "    </tr>\n",
       "    <tr>\n",
       "      <td>1</td>\n",
       "      <td>0,\"One of the other reviewers has mentioned th...</td>\n",
       "      <td>None</td>\n",
       "      <td>None</td>\n",
       "      <td>None</td>\n",
       "      <td>None</td>\n",
       "      <td>None</td>\n",
       "      <td>None</td>\n",
       "    </tr>\n",
       "    <tr>\n",
       "      <td>2</td>\n",
       "      <td>1,\"A wonderful little production. &lt;br /&gt;&lt;br /&gt;...</td>\n",
       "      <td>None</td>\n",
       "      <td>None</td>\n",
       "      <td>None</td>\n",
       "      <td>None</td>\n",
       "      <td>None</td>\n",
       "      <td>None</td>\n",
       "    </tr>\n",
       "    <tr>\n",
       "      <td>3</td>\n",
       "      <td>2,\"I thought this was a wonderful way to spend...</td>\n",
       "      <td>None</td>\n",
       "      <td>None</td>\n",
       "      <td>None</td>\n",
       "      <td>None</td>\n",
       "      <td>None</td>\n",
       "      <td>None</td>\n",
       "    </tr>\n",
       "    <tr>\n",
       "      <td>4</td>\n",
       "      <td>3,\"Basically there's a family where a little b...</td>\n",
       "      <td>None</td>\n",
       "      <td>None</td>\n",
       "      <td>None</td>\n",
       "      <td>None</td>\n",
       "      <td>None</td>\n",
       "      <td>None</td>\n",
       "    </tr>\n",
       "    <tr>\n",
       "      <td>...</td>\n",
       "      <td>...</td>\n",
       "      <td>...</td>\n",
       "      <td>...</td>\n",
       "      <td>...</td>\n",
       "      <td>...</td>\n",
       "      <td>...</td>\n",
       "      <td>...</td>\n",
       "    </tr>\n",
       "    <tr>\n",
       "      <td>997</td>\n",
       "      <td>996,\"I hated it. I hate self-aware pretentious...</td>\n",
       "      <td>None</td>\n",
       "      <td>None</td>\n",
       "      <td>None</td>\n",
       "      <td>None</td>\n",
       "      <td>None</td>\n",
       "      <td>None</td>\n",
       "    </tr>\n",
       "    <tr>\n",
       "      <td>998</td>\n",
       "      <td>997,\"I usually try to be professional and cons...</td>\n",
       "      <td>None</td>\n",
       "      <td>None</td>\n",
       "      <td>None</td>\n",
       "      <td>None</td>\n",
       "      <td>None</td>\n",
       "      <td>None</td>\n",
       "    </tr>\n",
       "    <tr>\n",
       "      <td>999</td>\n",
       "      <td>998,\"If you like me is going to see this in a ...</td>\n",
       "      <td>None</td>\n",
       "      <td>None</td>\n",
       "      <td>None</td>\n",
       "      <td>None</td>\n",
       "      <td>None</td>\n",
       "      <td>None</td>\n",
       "    </tr>\n",
       "    <tr>\n",
       "      <td>1000</td>\n",
       "      <td>999,\"This is like a zoology textbook, given th...</td>\n",
       "      <td>None</td>\n",
       "      <td>None</td>\n",
       "      <td>None</td>\n",
       "      <td>None</td>\n",
       "      <td>None</td>\n",
       "      <td>None</td>\n",
       "    </tr>\n",
       "    <tr>\n",
       "      <td>1001</td>\n",
       "      <td>999,\"This is like a zoology textbook, given th...</td>\n",
       "      <td>None</td>\n",
       "      <td>None</td>\n",
       "      <td>None</td>\n",
       "      <td>None</td>\n",
       "      <td>None</td>\n",
       "      <td>None</td>\n",
       "    </tr>\n",
       "  </tbody>\n",
       "</table>\n",
       "<p>1002 rows × 7 columns</p>\n",
       "</div>"
      ],
      "text/plain": [
       "                                                      0     1     2     3  \\\n",
       "0     one of the other reviewers has mentioned that ...  None  None  None   \n",
       "1     0,\"One of the other reviewers has mentioned th...  None  None  None   \n",
       "2     1,\"A wonderful little production. <br /><br />...  None  None  None   \n",
       "3     2,\"I thought this was a wonderful way to spend...  None  None  None   \n",
       "4     3,\"Basically there's a family where a little b...  None  None  None   \n",
       "...                                                 ...   ...   ...   ...   \n",
       "997   996,\"I hated it. I hate self-aware pretentious...  None  None  None   \n",
       "998   997,\"I usually try to be professional and cons...  None  None  None   \n",
       "999   998,\"If you like me is going to see this in a ...  None  None  None   \n",
       "1000  999,\"This is like a zoology textbook, given th...  None  None  None   \n",
       "1001  999,\"This is like a zoology textbook, given th...  None  None  None   \n",
       "\n",
       "         4     5     6  \n",
       "0     None  None  None  \n",
       "1     None  None  None  \n",
       "2     None  None  None  \n",
       "3     None  None  None  \n",
       "4     None  None  None  \n",
       "...    ...   ...   ...  \n",
       "997   None  None  None  \n",
       "998   None  None  None  \n",
       "999   None  None  None  \n",
       "1000  None  None  None  \n",
       "1001  None  None  None  \n",
       "\n",
       "[1002 rows x 7 columns]"
      ]
     },
     "execution_count": 17,
     "metadata": {},
     "output_type": "execute_result"
    }
   ],
   "source": [
    "df"
   ]
  },
  {
   "cell_type": "code",
   "execution_count": 18,
   "metadata": {},
   "outputs": [],
   "source": [
    "df.drop([1,2,3,4,5,6],axis=1,inplace=True)\n",
    "# dropping unnecessary columns."
   ]
  },
  {
   "cell_type": "code",
   "execution_count": 19,
   "metadata": {},
   "outputs": [
    {
     "data": {
      "text/html": [
       "<div>\n",
       "<style scoped>\n",
       "    .dataframe tbody tr th:only-of-type {\n",
       "        vertical-align: middle;\n",
       "    }\n",
       "\n",
       "    .dataframe tbody tr th {\n",
       "        vertical-align: top;\n",
       "    }\n",
       "\n",
       "    .dataframe thead th {\n",
       "        text-align: right;\n",
       "    }\n",
       "</style>\n",
       "<table border=\"1\" class=\"dataframe\">\n",
       "  <thead>\n",
       "    <tr style=\"text-align: right;\">\n",
       "      <th></th>\n",
       "      <th>0</th>\n",
       "    </tr>\n",
       "  </thead>\n",
       "  <tbody>\n",
       "    <tr>\n",
       "      <td>0</td>\n",
       "      <td>one of the other reviewers has mentioned that ...</td>\n",
       "    </tr>\n",
       "    <tr>\n",
       "      <td>1</td>\n",
       "      <td>0,\"One of the other reviewers has mentioned th...</td>\n",
       "    </tr>\n",
       "    <tr>\n",
       "      <td>2</td>\n",
       "      <td>1,\"A wonderful little production. &lt;br /&gt;&lt;br /&gt;...</td>\n",
       "    </tr>\n",
       "    <tr>\n",
       "      <td>3</td>\n",
       "      <td>2,\"I thought this was a wonderful way to spend...</td>\n",
       "    </tr>\n",
       "    <tr>\n",
       "      <td>4</td>\n",
       "      <td>3,\"Basically there's a family where a little b...</td>\n",
       "    </tr>\n",
       "    <tr>\n",
       "      <td>...</td>\n",
       "      <td>...</td>\n",
       "    </tr>\n",
       "    <tr>\n",
       "      <td>997</td>\n",
       "      <td>996,\"I hated it. I hate self-aware pretentious...</td>\n",
       "    </tr>\n",
       "    <tr>\n",
       "      <td>998</td>\n",
       "      <td>997,\"I usually try to be professional and cons...</td>\n",
       "    </tr>\n",
       "    <tr>\n",
       "      <td>999</td>\n",
       "      <td>998,\"If you like me is going to see this in a ...</td>\n",
       "    </tr>\n",
       "    <tr>\n",
       "      <td>1000</td>\n",
       "      <td>999,\"This is like a zoology textbook, given th...</td>\n",
       "    </tr>\n",
       "    <tr>\n",
       "      <td>1001</td>\n",
       "      <td>999,\"This is like a zoology textbook, given th...</td>\n",
       "    </tr>\n",
       "  </tbody>\n",
       "</table>\n",
       "<p>1002 rows × 1 columns</p>\n",
       "</div>"
      ],
      "text/plain": [
       "                                                      0\n",
       "0     one of the other reviewers has mentioned that ...\n",
       "1     0,\"One of the other reviewers has mentioned th...\n",
       "2     1,\"A wonderful little production. <br /><br />...\n",
       "3     2,\"I thought this was a wonderful way to spend...\n",
       "4     3,\"Basically there's a family where a little b...\n",
       "...                                                 ...\n",
       "997   996,\"I hated it. I hate self-aware pretentious...\n",
       "998   997,\"I usually try to be professional and cons...\n",
       "999   998,\"If you like me is going to see this in a ...\n",
       "1000  999,\"This is like a zoology textbook, given th...\n",
       "1001  999,\"This is like a zoology textbook, given th...\n",
       "\n",
       "[1002 rows x 1 columns]"
      ]
     },
     "execution_count": 19,
     "metadata": {},
     "output_type": "execute_result"
    }
   ],
   "source": [
    "df\n",
    "# Resulting dataframe."
   ]
  },
  {
   "cell_type": "code",
   "execution_count": 20,
   "metadata": {},
   "outputs": [],
   "source": [
    "df= df.rename(columns={0: 'Text'})\n",
    "# Renaming the column 0 as 'Text'"
   ]
  },
  {
   "cell_type": "markdown",
   "metadata": {},
   "source": [
    "#### Final Dataset."
   ]
  },
  {
   "cell_type": "code",
   "execution_count": 21,
   "metadata": {},
   "outputs": [
    {
     "data": {
      "text/html": [
       "<div>\n",
       "<style scoped>\n",
       "    .dataframe tbody tr th:only-of-type {\n",
       "        vertical-align: middle;\n",
       "    }\n",
       "\n",
       "    .dataframe tbody tr th {\n",
       "        vertical-align: top;\n",
       "    }\n",
       "\n",
       "    .dataframe thead th {\n",
       "        text-align: right;\n",
       "    }\n",
       "</style>\n",
       "<table border=\"1\" class=\"dataframe\">\n",
       "  <thead>\n",
       "    <tr style=\"text-align: right;\">\n",
       "      <th></th>\n",
       "      <th>Text</th>\n",
       "    </tr>\n",
       "  </thead>\n",
       "  <tbody>\n",
       "    <tr>\n",
       "      <td>0</td>\n",
       "      <td>one of the other reviewers has mentioned that ...</td>\n",
       "    </tr>\n",
       "    <tr>\n",
       "      <td>1</td>\n",
       "      <td>0,\"One of the other reviewers has mentioned th...</td>\n",
       "    </tr>\n",
       "    <tr>\n",
       "      <td>2</td>\n",
       "      <td>1,\"A wonderful little production. &lt;br /&gt;&lt;br /&gt;...</td>\n",
       "    </tr>\n",
       "    <tr>\n",
       "      <td>3</td>\n",
       "      <td>2,\"I thought this was a wonderful way to spend...</td>\n",
       "    </tr>\n",
       "    <tr>\n",
       "      <td>4</td>\n",
       "      <td>3,\"Basically there's a family where a little b...</td>\n",
       "    </tr>\n",
       "    <tr>\n",
       "      <td>...</td>\n",
       "      <td>...</td>\n",
       "    </tr>\n",
       "    <tr>\n",
       "      <td>997</td>\n",
       "      <td>996,\"I hated it. I hate self-aware pretentious...</td>\n",
       "    </tr>\n",
       "    <tr>\n",
       "      <td>998</td>\n",
       "      <td>997,\"I usually try to be professional and cons...</td>\n",
       "    </tr>\n",
       "    <tr>\n",
       "      <td>999</td>\n",
       "      <td>998,\"If you like me is going to see this in a ...</td>\n",
       "    </tr>\n",
       "    <tr>\n",
       "      <td>1000</td>\n",
       "      <td>999,\"This is like a zoology textbook, given th...</td>\n",
       "    </tr>\n",
       "    <tr>\n",
       "      <td>1001</td>\n",
       "      <td>999,\"This is like a zoology textbook, given th...</td>\n",
       "    </tr>\n",
       "  </tbody>\n",
       "</table>\n",
       "<p>1002 rows × 1 columns</p>\n",
       "</div>"
      ],
      "text/plain": [
       "                                                   Text\n",
       "0     one of the other reviewers has mentioned that ...\n",
       "1     0,\"One of the other reviewers has mentioned th...\n",
       "2     1,\"A wonderful little production. <br /><br />...\n",
       "3     2,\"I thought this was a wonderful way to spend...\n",
       "4     3,\"Basically there's a family where a little b...\n",
       "...                                                 ...\n",
       "997   996,\"I hated it. I hate self-aware pretentious...\n",
       "998   997,\"I usually try to be professional and cons...\n",
       "999   998,\"If you like me is going to see this in a ...\n",
       "1000  999,\"This is like a zoology textbook, given th...\n",
       "1001  999,\"This is like a zoology textbook, given th...\n",
       "\n",
       "[1002 rows x 1 columns]"
      ]
     },
     "execution_count": 21,
     "metadata": {},
     "output_type": "execute_result"
    }
   ],
   "source": [
    "df"
   ]
  },
  {
   "cell_type": "markdown",
   "metadata": {},
   "source": [
    "### Rows 0,1 and 1000 and 1001 have repeated so it needs to be cleaned."
   ]
  },
  {
   "cell_type": "code",
   "execution_count": 22,
   "metadata": {},
   "outputs": [],
   "source": [
    "df.drop(df.index[:1], inplace=True)\n",
    "# row 1 has repeated so it is dropped."
   ]
  },
  {
   "cell_type": "code",
   "execution_count": 23,
   "metadata": {},
   "outputs": [],
   "source": [
    "df.drop(df.index[1000:], inplace=True)\n",
    "# row 1000 has repeated aswell, so it is dropped."
   ]
  },
  {
   "cell_type": "code",
   "execution_count": 24,
   "metadata": {},
   "outputs": [
    {
     "data": {
      "text/html": [
       "<div>\n",
       "<style scoped>\n",
       "    .dataframe tbody tr th:only-of-type {\n",
       "        vertical-align: middle;\n",
       "    }\n",
       "\n",
       "    .dataframe tbody tr th {\n",
       "        vertical-align: top;\n",
       "    }\n",
       "\n",
       "    .dataframe thead th {\n",
       "        text-align: right;\n",
       "    }\n",
       "</style>\n",
       "<table border=\"1\" class=\"dataframe\">\n",
       "  <thead>\n",
       "    <tr style=\"text-align: right;\">\n",
       "      <th></th>\n",
       "      <th>Text</th>\n",
       "    </tr>\n",
       "  </thead>\n",
       "  <tbody>\n",
       "    <tr>\n",
       "      <td>1</td>\n",
       "      <td>0,\"One of the other reviewers has mentioned th...</td>\n",
       "    </tr>\n",
       "    <tr>\n",
       "      <td>2</td>\n",
       "      <td>1,\"A wonderful little production. &lt;br /&gt;&lt;br /&gt;...</td>\n",
       "    </tr>\n",
       "    <tr>\n",
       "      <td>3</td>\n",
       "      <td>2,\"I thought this was a wonderful way to spend...</td>\n",
       "    </tr>\n",
       "    <tr>\n",
       "      <td>4</td>\n",
       "      <td>3,\"Basically there's a family where a little b...</td>\n",
       "    </tr>\n",
       "    <tr>\n",
       "      <td>5</td>\n",
       "      <td>4,\"Petter Mattei's \"\"Love in the Time of Money...</td>\n",
       "    </tr>\n",
       "    <tr>\n",
       "      <td>...</td>\n",
       "      <td>...</td>\n",
       "    </tr>\n",
       "    <tr>\n",
       "      <td>996</td>\n",
       "      <td>995,\"Nothing is sacred. Just ask Ernie Fosseli...</td>\n",
       "    </tr>\n",
       "    <tr>\n",
       "      <td>997</td>\n",
       "      <td>996,\"I hated it. I hate self-aware pretentious...</td>\n",
       "    </tr>\n",
       "    <tr>\n",
       "      <td>998</td>\n",
       "      <td>997,\"I usually try to be professional and cons...</td>\n",
       "    </tr>\n",
       "    <tr>\n",
       "      <td>999</td>\n",
       "      <td>998,\"If you like me is going to see this in a ...</td>\n",
       "    </tr>\n",
       "    <tr>\n",
       "      <td>1000</td>\n",
       "      <td>999,\"This is like a zoology textbook, given th...</td>\n",
       "    </tr>\n",
       "  </tbody>\n",
       "</table>\n",
       "<p>1000 rows × 1 columns</p>\n",
       "</div>"
      ],
      "text/plain": [
       "                                                   Text\n",
       "1     0,\"One of the other reviewers has mentioned th...\n",
       "2     1,\"A wonderful little production. <br /><br />...\n",
       "3     2,\"I thought this was a wonderful way to spend...\n",
       "4     3,\"Basically there's a family where a little b...\n",
       "5     4,\"Petter Mattei's \"\"Love in the Time of Money...\n",
       "...                                                 ...\n",
       "996   995,\"Nothing is sacred. Just ask Ernie Fosseli...\n",
       "997   996,\"I hated it. I hate self-aware pretentious...\n",
       "998   997,\"I usually try to be professional and cons...\n",
       "999   998,\"If you like me is going to see this in a ...\n",
       "1000  999,\"This is like a zoology textbook, given th...\n",
       "\n",
       "[1000 rows x 1 columns]"
      ]
     },
     "execution_count": 24,
     "metadata": {},
     "output_type": "execute_result"
    }
   ],
   "source": [
    "df"
   ]
  },
  {
   "cell_type": "markdown",
   "metadata": {},
   "source": [
    "### Removing additional characters present in the dataframe."
   ]
  },
  {
   "cell_type": "code",
   "execution_count": 25,
   "metadata": {},
   "outputs": [],
   "source": [
    "## We can further see that there are still some special characters in the dataframe which have to be treated.\n",
    "df.replace('\\d+', '', regex=True, inplace=True)\n",
    "df.replace(',', '', regex=True, inplace=True)\n",
    "df.replace('br', '', regex=True, inplace=True)\n",
    "df.replace('\"', '', regex=True, inplace=True)\n",
    "df.replace(\"'\", '', regex=True, inplace=True)\n",
    "df.replace('?', '', inplace=True)\n",
    "df.replace(\"-\", '', regex=True, inplace=True)\n",
    "df.replace(\"*\", '', inplace=True)\n",
    "df.replace(\"***\", '', inplace=True)\n",
    "df.replace(\"< />\", '', regex=True, inplace=True)"
   ]
  },
  {
   "cell_type": "code",
   "execution_count": 26,
   "metadata": {},
   "outputs": [],
   "source": [
    "df['Text'] = df['Text'].str.strip('[')\n",
    "df['Text'] = df['Text'].str.strip(']')\n",
    "df['Text'] = df['Text'].str.strip(')')\n",
    "df['Text'] = df['Text'].str.strip('(')\n",
    "## Using the strip function in order to delete the special characters."
   ]
  },
  {
   "cell_type": "code",
   "execution_count": 27,
   "metadata": {},
   "outputs": [
    {
     "data": {
      "text/html": [
       "<div>\n",
       "<style scoped>\n",
       "    .dataframe tbody tr th:only-of-type {\n",
       "        vertical-align: middle;\n",
       "    }\n",
       "\n",
       "    .dataframe tbody tr th {\n",
       "        vertical-align: top;\n",
       "    }\n",
       "\n",
       "    .dataframe thead th {\n",
       "        text-align: right;\n",
       "    }\n",
       "</style>\n",
       "<table border=\"1\" class=\"dataframe\">\n",
       "  <thead>\n",
       "    <tr style=\"text-align: right;\">\n",
       "      <th></th>\n",
       "      <th>Text</th>\n",
       "    </tr>\n",
       "  </thead>\n",
       "  <tbody>\n",
       "    <tr>\n",
       "      <td>1</td>\n",
       "      <td>One of the other reviewers has mentioned that ...</td>\n",
       "    </tr>\n",
       "    <tr>\n",
       "      <td>2</td>\n",
       "      <td>A wonderful little production. The filming tec...</td>\n",
       "    </tr>\n",
       "    <tr>\n",
       "      <td>3</td>\n",
       "      <td>I thought this was a wonderful way to spend ti...</td>\n",
       "    </tr>\n",
       "    <tr>\n",
       "      <td>4</td>\n",
       "      <td>Basically theres a family where a little boy (...</td>\n",
       "    </tr>\n",
       "    <tr>\n",
       "      <td>5</td>\n",
       "      <td>Petter Matteis Love in the Time of Money is a ...</td>\n",
       "    </tr>\n",
       "    <tr>\n",
       "      <td>...</td>\n",
       "      <td>...</td>\n",
       "    </tr>\n",
       "    <tr>\n",
       "      <td>996</td>\n",
       "      <td>Nothing is sacred. Just ask Ernie Fosselius. T...</td>\n",
       "    </tr>\n",
       "    <tr>\n",
       "      <td>997</td>\n",
       "      <td>I hated it. I hate selfaware pretentious inani...</td>\n",
       "    </tr>\n",
       "    <tr>\n",
       "      <td>998</td>\n",
       "      <td>I usually try to be professional and construct...</td>\n",
       "    </tr>\n",
       "    <tr>\n",
       "      <td>999</td>\n",
       "      <td>If you like me is going to see this in a film ...</td>\n",
       "    </tr>\n",
       "    <tr>\n",
       "      <td>1000</td>\n",
       "      <td>This is like a zoology textbook given that its...</td>\n",
       "    </tr>\n",
       "  </tbody>\n",
       "</table>\n",
       "<p>1000 rows × 1 columns</p>\n",
       "</div>"
      ],
      "text/plain": [
       "                                                   Text\n",
       "1     One of the other reviewers has mentioned that ...\n",
       "2     A wonderful little production. The filming tec...\n",
       "3     I thought this was a wonderful way to spend ti...\n",
       "4     Basically theres a family where a little boy (...\n",
       "5     Petter Matteis Love in the Time of Money is a ...\n",
       "...                                                 ...\n",
       "996   Nothing is sacred. Just ask Ernie Fosselius. T...\n",
       "997   I hated it. I hate selfaware pretentious inani...\n",
       "998   I usually try to be professional and construct...\n",
       "999   If you like me is going to see this in a film ...\n",
       "1000  This is like a zoology textbook given that its...\n",
       "\n",
       "[1000 rows x 1 columns]"
      ]
     },
     "execution_count": 27,
     "metadata": {},
     "output_type": "execute_result"
    }
   ],
   "source": [
    "df"
   ]
  },
  {
   "cell_type": "markdown",
   "metadata": {},
   "source": [
    "## Lemmatization of the text column"
   ]
  },
  {
   "cell_type": "markdown",
   "metadata": {},
   "source": [
    "Lemmatization usually refers to doing things properly with the use of a vocabulary and morphological analysis of words, normally aiming to remove inflectional endings only and to return the base or dictionary form of a word, which is known as the lemma.\n",
    "Lemmatization will generate the root form of the inflected words"
   ]
  },
  {
   "cell_type": "code",
   "execution_count": 28,
   "metadata": {},
   "outputs": [],
   "source": [
    "df['Text'] = df['Text'].apply(nu.lemmatization_sentence)"
   ]
  },
  {
   "cell_type": "code",
   "execution_count": 29,
   "metadata": {},
   "outputs": [],
   "source": [
    "Text=df['Text']"
   ]
  },
  {
   "cell_type": "code",
   "execution_count": 30,
   "metadata": {},
   "outputs": [],
   "source": [
    "token=Text.as_matrix(columns=None)\n",
    "## as_matrix() function is used to convert the given series or dataframe object to Numpy-array representation."
   ]
  },
  {
   "cell_type": "code",
   "execution_count": 31,
   "metadata": {},
   "outputs": [],
   "source": [
    "token=nltk.sent_tokenize(str(token))\n",
    "## Sentence tokenization"
   ]
  },
  {
   "cell_type": "code",
   "execution_count": 32,
   "metadata": {},
   "outputs": [],
   "source": [
    "data = np.array(token)\n",
    "## Saving token in form of array"
   ]
  },
  {
   "cell_type": "code",
   "execution_count": 33,
   "metadata": {},
   "outputs": [],
   "source": [
    "stop = stopwords.words('english')\n",
    "## Saving stopwords in stop"
   ]
  },
  {
   "cell_type": "markdown",
   "metadata": {},
   "source": [
    "### Removing stopwords from the dataframe"
   ]
  },
  {
   "cell_type": "code",
   "execution_count": null,
   "metadata": {},
   "outputs": [],
   "source": [
    "text = data\n",
    "text_tokens = word_tokenize(str(text))\n",
    "\n",
    "tokens_without_sw = [word for word in text_tokens if not word in stop]\n",
    "\n",
    "print(tokens_without_sw)   \n",
    "## Removing stopwords from the text and printing the words without stopwords"
   ]
  },
  {
   "cell_type": "markdown",
   "metadata": {},
   "source": [
    "# Visualization"
   ]
  },
  {
   "cell_type": "code",
   "execution_count": 35,
   "metadata": {},
   "outputs": [],
   "source": [
    "stopwords = set(stopwords.words(\"english\"))\n",
    "## Removing stopwords for wordcloud visualization"
   ]
  },
  {
   "cell_type": "code",
   "execution_count": 36,
   "metadata": {},
   "outputs": [],
   "source": [
    "wordcloud = WordCloud(stopwords=stop, background_color=\"white\", max_words=1000).generate(str(tokens_without_sw))\n",
    "## WordCloud is a technique to show which words are the most frequent among the given text"
   ]
  },
  {
   "cell_type": "markdown",
   "metadata": {},
   "source": [
    "### Visualizing the highest repeating words in the dataframe using  the wordcloud."
   ]
  },
  {
   "cell_type": "code",
   "execution_count": 37,
   "metadata": {},
   "outputs": [
    {
     "data": {
      "image/png": "[encoded data removed]",
      "text/plain": [
       "<Figure size 720x1440 with 1 Axes>"
      ]
     },
     "metadata": {
      "needs_background": "light"
     },
     "output_type": "display_data"
    }
   ],
   "source": [
    "rcParams['figure.figsize'] = 10, 20\n",
    "plt.imshow(wordcloud)\n",
    "plt.axis(\"off\")\n",
    "plt.show()"
   ]
  },
  {
   "cell_type": "markdown",
   "metadata": {},
   "source": [
    "### Counting the number of times a word has repeated through out the data."
   ]
  },
  {
   "cell_type": "code",
   "execution_count": 38,
   "metadata": {},
   "outputs": [],
   "source": [
    "tokens_without_sw=(str(tokens_without_sw))"
   ]
  },
  {
   "cell_type": "code",
   "execution_count": 39,
   "metadata": {},
   "outputs": [],
   "source": [
    "filtered_words = [word for word in tokens_without_sw.split() if word not in stopwords]\n",
    "counted_words = collections.Counter(filtered_words)\n",
    "\n",
    "words = []\n",
    "counts = []\n",
    "for letter, count in counted_words.most_common(10):\n",
    "    words.append(letter)\n",
    "    counts.append(count)\n",
    "# Removing stopwords as creating two lists to display the words and their counts    "
   ]
  },
  {
   "cell_type": "code",
   "execution_count": 40,
   "metadata": {},
   "outputs": [
    {
     "data": {
      "text/plain": [
       "[(\"'movie',\", 2018),\n",
       " (\"'film',\", 1772),\n",
       " (\"'one',\", 980),\n",
       " (\"'make',\", 888),\n",
       " (\"'see',\", 856),\n",
       " (\"'like',\", 828),\n",
       " (\"'get',\", 751),\n",
       " (\"'good',\", 643),\n",
       " (\"'go',\", 542),\n",
       " (\"'watch',\", 541),\n",
       " (\"'time',\", 533),\n",
       " (\"'character',\", 524),\n",
       " (\"'even',\", 509),\n",
       " (\"'would',\", 490),\n",
       " (\"'bad',\", 488),\n",
       " (\"'think',\", 470),\n",
       " (\"'story',\", 467),\n",
       " (\"'...',\", 457),\n",
       " (\"'really',\", 450),\n",
       " (\"'well',\", 444),\n",
       " (\"'scene',\", 434),\n",
       " (\"'much',\", 392),\n",
       " (\"'show',\", 375),\n",
       " (\"'great',\", 374),\n",
       " (\"'know',\", 369),\n",
       " (\"'take',\", 361),\n",
       " (\"'look',\", 360),\n",
       " (\"'people',\", 356),\n",
       " (\"'way',\", 353),\n",
       " (\"'give',\", 349),\n",
       " (\"'also',\", 336),\n",
       " (\"'say',\", 335),\n",
       " (\"'come',\", 333),\n",
       " (\"'play',\", 332),\n",
       " (\"'first',\", 325),\n",
       " (\"'end',\", 321),\n",
       " (\"'find',\", 309),\n",
       " (\"'dont',\", 309),\n",
       " (\"'thing',\", 299),\n",
       " (\"'plot',\", 297),\n",
       " (\"'want',\", 293),\n",
       " (\"'many',\", 282),\n",
       " (\"'love',\", 281),\n",
       " (\"'work',\", 275),\n",
       " (\"'life',\", 273),\n",
       " (\"'never',\", 272),\n",
       " (\"'little',\", 270),\n",
       " (\"'seem',\", 269),\n",
       " (\"'could',\", 269),\n",
       " (\"'two',\", 265),\n",
       " (\"'actor',\", 263),\n",
       " (\"'best',\", 258),\n",
       " ('\"\\'\",', 253),\n",
       " (\"'try',\", 245),\n",
       " (\"'year',\", 238),\n",
       " (\"'ever',\", 218),\n",
       " (\"'man',\", 215),\n",
       " (\"'performance',\", 211),\n",
       " (\"'back',\", 206),\n",
       " (\"'act',\", 205),\n",
       " (\"'still',\", 204),\n",
       " (\"'part',\", 200),\n",
       " (\"'use',\", 199),\n",
       " (\"'funny',\", 197),\n",
       " (\"'new',\", 189),\n",
       " (\"'something',\", 188),\n",
       " (\"'world',\", 187),\n",
       " (\"'old',\", 186),\n",
       " (\"'lot',\", 183),\n",
       " (\"'real',\", 181),\n",
       " (\"'cant',\", 177),\n",
       " (\"'director',\", 173),\n",
       " (\"'woman',\", 172),\n",
       " (\"'young',\", 170),\n",
       " (\"'im',\", 170),\n",
       " (\"'actually',\", 170),\n",
       " (\"'though',\", 170),\n",
       " (\"'star',\", 167),\n",
       " (\"'big',\", 166),\n",
       " (\"'nothing',\", 166),\n",
       " (\"'pretty',\", 164),\n",
       " (\"'leave',\", 163),\n",
       " (\"'feel',\", 163),\n",
       " (\"'doesnt',\", 162),\n",
       " (\"'day',\", 162),\n",
       " (\"'guy',\", 159),\n",
       " (\"'turn',\", 158),\n",
       " (\"'every',\", 157),\n",
       " (\"'role',\", 154),\n",
       " (\"'however',\", 154),\n",
       " (\"'quite',\", 153),\n",
       " (\"'another',\", 151),\n",
       " (\"'point',\", 150),\n",
       " (\"'girl',\", 149),\n",
       " (\"'didnt',\", 148),\n",
       " (\"'tell',\", 147),\n",
       " ('\"\\'this\",', 146),\n",
       " (\"'around',\", 145),\n",
       " (\"'comedy',\", 145),\n",
       " (\"'u',\", 144)]"
      ]
     },
     "execution_count": 40,
     "metadata": {},
     "output_type": "execute_result"
    }
   ],
   "source": [
    "counted_words.most_common(100) # the word 'movie' has repeated for 2081 times."
   ]
  },
  {
   "cell_type": "markdown",
   "metadata": {},
   "source": [
    "# Visualizing top 10 repeated/common words using bar graph."
   ]
  },
  {
   "cell_type": "code",
   "execution_count": 41,
   "metadata": {},
   "outputs": [
    {
     "data": {
      "text/plain": [
       "<BarContainer object of 10 artists>"
      ]
     },
     "execution_count": 41,
     "metadata": {},
     "output_type": "execute_result"
    },
    {
     "data": {
      "image/png": "[encoded data removed]",
      "text/plain": [
       "<Figure size 1440x720 with 1 Axes>"
      ]
     },
     "metadata": {
      "needs_background": "light"
     },
     "output_type": "display_data"
    }
   ],
   "source": [
    "colors = cm.rainbow(np.linspace(0, 1, 10))\n",
    "rcParams['figure.figsize'] = 20, 10\n",
    "\n",
    "plt.title('Top words in the headlines vs their count')\n",
    "plt.xlabel('Count')\n",
    "plt.ylabel('Words')\n",
    "plt.barh(words, counts, color=colors)"
   ]
  },
  {
   "cell_type": "markdown",
   "metadata": {},
   "source": [
    "# Sentiment Analysis."
   ]
  },
  {
   "cell_type": "markdown",
   "metadata": {},
   "source": [
    "### Vader sentiment analysis is done in order to find if a given (Word) is positive, negative or  neutral in nature.\n",
    "VADER belongs to a type of sentiment analysis that is based on lexicons of sentiment-related words. In this approach, each of the words in the lexicon is rated as to whether it is positive or negative, and in many cases, how positive or negative. Below you can see an excerpt from VADER’s lexicon, where more positive words have higher positive ratings and more negative words have lower negative ratings.\n",
    "Vader sentiment analysis for a given (word) if positive, negative or  neutral in nature."
   ]
  },
  {
   "cell_type": "code",
   "execution_count": 42,
   "metadata": {},
   "outputs": [],
   "source": [
    "from nltk.sentiment.vader import SentimentIntensityAnalyzer\n",
    "from vaderSentiment.vaderSentiment import SentimentIntensityAnalyzer\n",
    "sentence = tokens_without_sw\n",
    "tokenized_sentence = nltk.word_tokenize(sentence)\n",
    "\n",
    "sid = SentimentIntensityAnalyzer()\n",
    "pos_word_list=[]\n",
    "neu_word_list=[]\n",
    "neg_word_list=[]\n",
    "\n",
    "for word in tokenized_sentence:\n",
    "    if (sid.polarity_scores(word)['compound']) >= 0.1:\n",
    "        pos_word_list.append(word)\n",
    "    elif (sid.polarity_scores(word)['compound']) <= -0.1:\n",
    "        neg_word_list.append(word)\n",
    "    else:        \n",
    "        neu_word_list.append(word)                \n",
    "\n",
    "#print('Positive:',pos_word_list)        \n",
    "#print('Neutral:',neu_word_list)    \n",
    "#print('Negative:',neg_word_list) \n",
    "#score = sid.polarity_scores(sentence)\n",
    "#print('\\nScores:', score)"
   ]
  },
  {
   "cell_type": "code",
   "execution_count": 43,
   "metadata": {},
   "outputs": [],
   "source": [
    "#pos_word_list[:100]\n",
    "#neg_word_list[:100]"
   ]
  },
  {
   "cell_type": "markdown",
   "metadata": {},
   "source": [
    "### Top 100 Positive words."
   ]
  },
  {
   "cell_type": "code",
   "execution_count": 44,
   "metadata": {},
   "outputs": [
    {
     "name": "stdout",
     "output_type": "stream",
     "text": [
      "[\"'trust\", \"'security\", \"'agreement\", \"'pretty\", \"'charm\", \"'romance\", \"'ready\", \"'well\", \"'comfortable\", \"'wonderful\", \"'comforting\", \"'well\", \"'truly\", \"'well\", \"'worth\", \"'great\", \"'comedy\", \"'dream\", \"'solid\", \"'play\", \"'well\", \"'wonderful\", \"'lighthearted\", \"'comedy\", \"'well\", \"'laugh\", \"'comedy\", \"'impress\", \"'sexy\", \"'spirited\", \"'jewel\", \"'interesting\", \"'great\", \"'comedy\", \"'thriller\", \"'like\", \"'thriller\", \"'well\", \"'play\", \"'love\", \"'stunning\", \"'success\", \"'play\", \"'sophisticated\", \"'best\", \"'sincere\", \"'good\", \"'talented\", \"'wish\", \"'good\", \"'luck\", \"'await\", \"'favorite\", \"'noble\", \"'truly\", \"'sympathetic\", \"'delight\", \"'like\", \"'fun\", \"'sure\", \"'like\", \"'excitement\", \"'heros\", \"'thank\", \"'like\", \"'nice\", \"'amazing\", \"'fresh\", \"'innovative\", \"'funny\", \"'truly\", \"'entertaining\", \"'original\", \"'fit\", \"'respect\", \"'original\", \"'huge\", \"'success\", \"'encourage\", \"'positive\", \"'truly\", \"'play\", \"'happy\", \"'credit\", \"'best\", \"'like\", \"'original\", \"'laughter\", \"'like\", \"'love\", \"'like\", \"'humour\", \"'pretty\", \"'funny\", \"'progress\", \"'joke\", \"'funny\", \"'pretty\", \"'interesting\", \"'good\"]\n"
     ]
    }
   ],
   "source": [
    "print(list(iter(pos_word_list[:100]))) # These are the top 100 positive words found in the dataset."
   ]
  },
  {
   "cell_type": "markdown",
   "metadata": {},
   "source": [
    "### Top 100 Negative words."
   ]
  },
  {
   "cell_type": "code",
   "execution_count": 45,
   "metadata": {},
   "outputs": [
    {
     "name": "stdout",
     "output_type": "stream",
     "text": [
      "[\"'strike\", \"'violence\", \"'timid\", \"'violence\", \"'prison\", \"'death\", \"'dodgy\", \"'forget\", \"'forget\", \"'forget\", \"'mess\", \"'strike\", \"'nasty\", \"'violence\", \"'violence\", \"'injustice\", \"'kill\", \"'prison\", \"'bitch\", \"'lack\", \"'prison\", \"'uncomfortable\", \"'discomforting\", \"'disappear\", \"'terribly\", \"'suspect\", \"'killer\", \"'disappoint\", \"'risk\", \"'devil\", \"'fight\", \"'kill\", \"'argue\", \"'ruin\", \"'meaningless\", \"'ignore\", \"'loneliness\", \"'anxiously\", \"'bore\", \"'startle\", \"'doubt\", \"'drop\", \"'waste\", \"'painfully\", \"'bad\", \"'bad\", \"'hard\", \"'awful\", \"'bad\", \"'mistake\", \"'bad\", \"'awful\", \"'lame\", \"'nasty\", \"'bore\", \"'obsessive\", \"'hell\", \"'odd\", \"'low\", \"'problem\", \"'lose\", \"'scary\", \"'helplessly\", \"'horror\", \"'die\", \"'scary\", \"'cry\", \"'kill\", \"'warn\", \"'cry\", \"'complain\", \"'evil\", \"'mad\", \"'cry\", \"'disappoint\", \"'fight\", \"'cry\", \"'reek\", \"'annoying\", \"'shoot\", \"'ruin\", \"'cut\", \"'prisoner\", \"'bad\", \"'sorrow\", \"'bizarre\", \"'hard\", \"'ridiculous\", \"'nonsense\", \"'stereotyped\", \"'bad\", \"'waste\", \"'starve\", \"'bad\", \"'fail\", \"'terror\", \"'fault\", \"'lose\", \"'bad\", \"'terror\"]\n"
     ]
    }
   ],
   "source": [
    "print(list(iter(neg_word_list[:100]))) # These are the top 100 negative words found in the dataset."
   ]
  },
  {
   "cell_type": "markdown",
   "metadata": {},
   "source": [
    "## Vader sentiment analysis for a given (Sentence) if positive, negative or  neutral in nature."
   ]
  },
  {
   "cell_type": "code",
   "execution_count": null,
   "metadata": {},
   "outputs": [],
   "source": [
    "sid = SentimentIntensityAnalyzer()\n",
    "for sentence in Text:\n",
    "     print(sentence)\n",
    "        \n",
    "     ss = sid.polarity_scores(sentence)\n",
    "     for k in ss:\n",
    "         print('{0}: {1}, ' .format(k, ss[k]), end='')\n",
    "     print()"
   ]
  },
  {
   "cell_type": "markdown",
   "metadata": {},
   "source": [
    "### Converting all Polarity scores and sentences into a dataframe."
   ]
  },
  {
   "cell_type": "code",
   "execution_count": 47,
   "metadata": {},
   "outputs": [],
   "source": [
    "analyzer = SentimentIntensityAnalyzer()\n",
    "df['rating'] = Text.apply(analyzer.polarity_scores)\n",
    "df=pd.concat([df.drop(['rating'], axis=1), df['rating'].apply(pd.Series)], axis=1)\n",
    "### Creating a dataframe."
   ]
  },
  {
   "cell_type": "code",
   "execution_count": 48,
   "metadata": {},
   "outputs": [
    {
     "data": {
      "text/html": [
       "<div>\n",
       "<style scoped>\n",
       "    .dataframe tbody tr th:only-of-type {\n",
       "        vertical-align: middle;\n",
       "    }\n",
       "\n",
       "    .dataframe tbody tr th {\n",
       "        vertical-align: top;\n",
       "    }\n",
       "\n",
       "    .dataframe thead th {\n",
       "        text-align: right;\n",
       "    }\n",
       "</style>\n",
       "<table border=\"1\" class=\"dataframe\">\n",
       "  <thead>\n",
       "    <tr style=\"text-align: right;\">\n",
       "      <th></th>\n",
       "      <th>Text</th>\n",
       "      <th>neg</th>\n",
       "      <th>neu</th>\n",
       "      <th>pos</th>\n",
       "      <th>compound</th>\n",
       "    </tr>\n",
       "  </thead>\n",
       "  <tbody>\n",
       "    <tr>\n",
       "      <td>1</td>\n",
       "      <td>one of the other reviewer have mention that af...</td>\n",
       "      <td>0.172</td>\n",
       "      <td>0.759</td>\n",
       "      <td>0.070</td>\n",
       "      <td>-0.9897</td>\n",
       "    </tr>\n",
       "    <tr>\n",
       "      <td>2</td>\n",
       "      <td>a wonderful little production the filming tech...</td>\n",
       "      <td>0.049</td>\n",
       "      <td>0.767</td>\n",
       "      <td>0.184</td>\n",
       "      <td>0.9711</td>\n",
       "    </tr>\n",
       "    <tr>\n",
       "      <td>3</td>\n",
       "      <td>i think this be a wonderful way to spend time ...</td>\n",
       "      <td>0.102</td>\n",
       "      <td>0.673</td>\n",
       "      <td>0.225</td>\n",
       "      <td>0.9748</td>\n",
       "    </tr>\n",
       "    <tr>\n",
       "      <td>4</td>\n",
       "      <td>basically theres a family where a little boy j...</td>\n",
       "      <td>0.131</td>\n",
       "      <td>0.803</td>\n",
       "      <td>0.067</td>\n",
       "      <td>-0.9080</td>\n",
       "    </tr>\n",
       "    <tr>\n",
       "      <td>5</td>\n",
       "      <td>petter matteis love in the time of money be a ...</td>\n",
       "      <td>0.052</td>\n",
       "      <td>0.800</td>\n",
       "      <td>0.148</td>\n",
       "      <td>0.9744</td>\n",
       "    </tr>\n",
       "  </tbody>\n",
       "</table>\n",
       "</div>"
      ],
      "text/plain": [
       "                                                Text    neg    neu    pos  \\\n",
       "1  one of the other reviewer have mention that af...  0.172  0.759  0.070   \n",
       "2  a wonderful little production the filming tech...  0.049  0.767  0.184   \n",
       "3  i think this be a wonderful way to spend time ...  0.102  0.673  0.225   \n",
       "4  basically theres a family where a little boy j...  0.131  0.803  0.067   \n",
       "5  petter matteis love in the time of money be a ...  0.052  0.800  0.148   \n",
       "\n",
       "   compound  \n",
       "1   -0.9897  \n",
       "2    0.9711  \n",
       "3    0.9748  \n",
       "4   -0.9080  \n",
       "5    0.9744  "
      ]
     },
     "execution_count": 48,
     "metadata": {},
     "output_type": "execute_result"
    }
   ],
   "source": [
    "df.head()"
   ]
  },
  {
   "cell_type": "markdown",
   "metadata": {},
   "source": [
    "## Arranging the dataset in descending order based on (Compound score) to find the most important sentence from the given data."
   ]
  },
  {
   "cell_type": "code",
   "execution_count": 49,
   "metadata": {},
   "outputs": [],
   "source": [
    "imp_sent=df.sort_values(by='compound', ascending=False)\n",
    "## arranging the compound column in descending order to find the best sentence. "
   ]
  },
  {
   "cell_type": "code",
   "execution_count": 50,
   "metadata": {},
   "outputs": [
    {
     "data": {
      "text/html": [
       "<div>\n",
       "<style scoped>\n",
       "    .dataframe tbody tr th:only-of-type {\n",
       "        vertical-align: middle;\n",
       "    }\n",
       "\n",
       "    .dataframe tbody tr th {\n",
       "        vertical-align: top;\n",
       "    }\n",
       "\n",
       "    .dataframe thead th {\n",
       "        text-align: right;\n",
       "    }\n",
       "</style>\n",
       "<table border=\"1\" class=\"dataframe\">\n",
       "  <thead>\n",
       "    <tr style=\"text-align: right;\">\n",
       "      <th></th>\n",
       "      <th>Text</th>\n",
       "      <th>neg</th>\n",
       "      <th>neu</th>\n",
       "      <th>pos</th>\n",
       "      <th>compound</th>\n",
       "    </tr>\n",
       "  </thead>\n",
       "  <tbody>\n",
       "    <tr>\n",
       "      <td>411</td>\n",
       "      <td>i firmly believe that the best oscar ceremony ...</td>\n",
       "      <td>0.080</td>\n",
       "      <td>0.609</td>\n",
       "      <td>0.311</td>\n",
       "      <td>0.9997</td>\n",
       "    </tr>\n",
       "    <tr>\n",
       "      <td>567</td>\n",
       "      <td>few would argue that master animation director...</td>\n",
       "      <td>0.043</td>\n",
       "      <td>0.735</td>\n",
       "      <td>0.222</td>\n",
       "      <td>0.9995</td>\n",
       "    </tr>\n",
       "    <tr>\n",
       "      <td>211</td>\n",
       "      <td>i have just give a for thief highway i mention...</td>\n",
       "      <td>0.086</td>\n",
       "      <td>0.640</td>\n",
       "      <td>0.275</td>\n",
       "      <td>0.9993</td>\n",
       "    </tr>\n",
       "    <tr>\n",
       "      <td>364</td>\n",
       "      <td>the plot michael linnett connors have do every...</td>\n",
       "      <td>0.020</td>\n",
       "      <td>0.815</td>\n",
       "      <td>0.165</td>\n",
       "      <td>0.9992</td>\n",
       "    </tr>\n",
       "    <tr>\n",
       "      <td>944</td>\n",
       "      <td>a film for mature educate audience ... i saw r...</td>\n",
       "      <td>0.069</td>\n",
       "      <td>0.676</td>\n",
       "      <td>0.255</td>\n",
       "      <td>0.9991</td>\n",
       "    </tr>\n",
       "    <tr>\n",
       "      <td>...</td>\n",
       "      <td>...</td>\n",
       "      <td>...</td>\n",
       "      <td>...</td>\n",
       "      <td>...</td>\n",
       "      <td>...</td>\n",
       "    </tr>\n",
       "    <tr>\n",
       "      <td>323</td>\n",
       "      <td>if only i have read the review by alex sander ...</td>\n",
       "      <td>0.191</td>\n",
       "      <td>0.718</td>\n",
       "      <td>0.091</td>\n",
       "      <td>-0.9980</td>\n",
       "    </tr>\n",
       "    <tr>\n",
       "      <td>825</td>\n",
       "      <td>mexican werewolf in texas be set in the small ...</td>\n",
       "      <td>0.203</td>\n",
       "      <td>0.720</td>\n",
       "      <td>0.076</td>\n",
       "      <td>-0.9981</td>\n",
       "    </tr>\n",
       "    <tr>\n",
       "      <td>247</td>\n",
       "      <td>this show make absolutely no sense every week ...</td>\n",
       "      <td>0.365</td>\n",
       "      <td>0.583</td>\n",
       "      <td>0.052</td>\n",
       "      <td>-0.9986</td>\n",
       "    </tr>\n",
       "    <tr>\n",
       "      <td>457</td>\n",
       "      <td>oh my goodness i would have never think it be ...</td>\n",
       "      <td>0.208</td>\n",
       "      <td>0.710</td>\n",
       "      <td>0.082</td>\n",
       "      <td>-0.9989</td>\n",
       "    </tr>\n",
       "    <tr>\n",
       "      <td>766</td>\n",
       "      <td>this film cant make up it mind whether it mess...</td>\n",
       "      <td>0.261</td>\n",
       "      <td>0.636</td>\n",
       "      <td>0.102</td>\n",
       "      <td>-0.9989</td>\n",
       "    </tr>\n",
       "  </tbody>\n",
       "</table>\n",
       "<p>1000 rows × 5 columns</p>\n",
       "</div>"
      ],
      "text/plain": [
       "                                                  Text    neg    neu    pos  \\\n",
       "411  i firmly believe that the best oscar ceremony ...  0.080  0.609  0.311   \n",
       "567  few would argue that master animation director...  0.043  0.735  0.222   \n",
       "211  i have just give a for thief highway i mention...  0.086  0.640  0.275   \n",
       "364  the plot michael linnett connors have do every...  0.020  0.815  0.165   \n",
       "944  a film for mature educate audience ... i saw r...  0.069  0.676  0.255   \n",
       "..                                                 ...    ...    ...    ...   \n",
       "323  if only i have read the review by alex sander ...  0.191  0.718  0.091   \n",
       "825  mexican werewolf in texas be set in the small ...  0.203  0.720  0.076   \n",
       "247  this show make absolutely no sense every week ...  0.365  0.583  0.052   \n",
       "457  oh my goodness i would have never think it be ...  0.208  0.710  0.082   \n",
       "766  this film cant make up it mind whether it mess...  0.261  0.636  0.102   \n",
       "\n",
       "     compound  \n",
       "411    0.9997  \n",
       "567    0.9995  \n",
       "211    0.9993  \n",
       "364    0.9992  \n",
       "944    0.9991  \n",
       "..        ...  \n",
       "323   -0.9980  \n",
       "825   -0.9981  \n",
       "247   -0.9986  \n",
       "457   -0.9989  \n",
       "766   -0.9989  \n",
       "\n",
       "[1000 rows x 5 columns]"
      ]
     },
     "execution_count": 50,
     "metadata": {},
     "output_type": "execute_result"
    }
   ],
   "source": [
    "imp_sent "
   ]
  },
  {
   "cell_type": "code",
   "execution_count": 51,
   "metadata": {},
   "outputs": [
    {
     "name": "stdout",
     "output_type": "stream",
     "text": [
      "i firmly believe that the best oscar ceremony in recent year be in for two reason host steve martin be at his most witty i saw the teamster help michael moore into the trunk of his limo and ill good not mention the gay mafia in case i wake up with a poodle head in my bed surprise winners no one have adrien brody down for best actor genuine applause or roman polanski for best director genuine jeer and boo but they win last year award ceremony wasnt too bad but there be little in the way of surprise and i be happy to see return of the king sweep the award even if it wasnt the best in the trilogy fellowship be much good but what let the bbc coverage down be jonathan ross get a few of his sycophantic mate round and pretend they be hilarious when they be anything but so when i hear sky be do the coverage for british tv i be expect barry norman and mark kermode to be do the link but instead we end up with jamie theakston and sharon osbourne oh gawd if british tv be desperate for film critic obviously they be im sure both bob the moo and theo robertson will happily fly over to la to give their honest opinion on the winner and loser chris rock wasnt too bad but hes no steve martin while the location seem to resemble a sport hall with seat put in not much of a glitzy arena in my opinion the main problem i have with the ceremony be the format with the minor oscar hand out to the winner who be sit in their seat theres no such thing a a minor oscar and just because the award be for best animate short or best costume design theyre a well deserve a best picture or best director all the winner should be allow to march up to the podium what a bunch of arrogant snob the academy be become and i quite agree with the comment that this format be disgraceful and if it wasnt for the surprise this could possibly have be the bad ceremony in history a for the award themselves best support actress cate blanchett no great surprise for a competitive category best support actor morgan freeman no real complaint since freeman be one of america great living character actor best actor jamie foxx most predictable award of the night yawn best actress hilary swank major surprise since everyone think annette benning be go to win simply down to academy politics but swank do deserve it and give the best speech of the night best director clint eastwood major surprise since everyone think scorsese be go to get the award simply because hed never win one actually im glad about this because if he didnt deserve it for taxi driver rag bull or goodfellas he didnt deserve it for the aviator best film million dollar baby again another major surprise since everyone think the academy would split the award for best director and best picture while i think the hollywood friendly plot of the aviator would have make it a dead cert for best picture while mdbs controversial subject matter would have turn a lot of voter off what these award perhaps illustrate be that this year the voter have decide to ignore oscar politics and genuinely give out award to people who deserve it something they havent do in the past i mean a beautiful mind beat the fellowship of the ring for gawds sake and long may the academy vote with their head instead of their heart\n"
     ]
    }
   ],
   "source": [
    "print(df['Text'].iloc[410] ) # sentence with index 410 has the highest compound score \n",
    "                             # and hence it is the most important sentence among all the sentences."
   ]
  },
  {
   "cell_type": "markdown",
   "metadata": {},
   "source": [
    "## Finding top positive sentence in the data."
   ]
  },
  {
   "cell_type": "code",
   "execution_count": 52,
   "metadata": {},
   "outputs": [],
   "source": [
    "pos_sent=df.sort_values(by='pos', ascending=False)\n",
    "## Arranging the dataframe by positive column in descending order to find the best postive sentence."
   ]
  },
  {
   "cell_type": "code",
   "execution_count": 53,
   "metadata": {},
   "outputs": [
    {
     "data": {
      "text/html": [
       "<div>\n",
       "<style scoped>\n",
       "    .dataframe tbody tr th:only-of-type {\n",
       "        vertical-align: middle;\n",
       "    }\n",
       "\n",
       "    .dataframe tbody tr th {\n",
       "        vertical-align: top;\n",
       "    }\n",
       "\n",
       "    .dataframe thead th {\n",
       "        text-align: right;\n",
       "    }\n",
       "</style>\n",
       "<table border=\"1\" class=\"dataframe\">\n",
       "  <thead>\n",
       "    <tr style=\"text-align: right;\">\n",
       "      <th></th>\n",
       "      <th>Text</th>\n",
       "      <th>neg</th>\n",
       "      <th>neu</th>\n",
       "      <th>pos</th>\n",
       "      <th>compound</th>\n",
       "    </tr>\n",
       "  </thead>\n",
       "  <tbody>\n",
       "    <tr>\n",
       "      <td>161</td>\n",
       "      <td>mystery men have get to be the stupid film ive...</td>\n",
       "      <td>0.100</td>\n",
       "      <td>0.449</td>\n",
       "      <td>0.450</td>\n",
       "      <td>0.9890</td>\n",
       "    </tr>\n",
       "    <tr>\n",
       "      <td>10</td>\n",
       "      <td>if you like original gut wrench laughter you w...</td>\n",
       "      <td>0.100</td>\n",
       "      <td>0.524</td>\n",
       "      <td>0.376</td>\n",
       "      <td>0.8910</td>\n",
       "    </tr>\n",
       "    <tr>\n",
       "      <td>382</td>\n",
       "      <td>this film be pretty good i be not too big a fa...</td>\n",
       "      <td>0.034</td>\n",
       "      <td>0.627</td>\n",
       "      <td>0.339</td>\n",
       "      <td>0.9944</td>\n",
       "    </tr>\n",
       "    <tr>\n",
       "      <td>322</td>\n",
       "      <td>i have watch this movie countless time and nev...</td>\n",
       "      <td>0.000</td>\n",
       "      <td>0.666</td>\n",
       "      <td>0.334</td>\n",
       "      <td>0.9827</td>\n",
       "    </tr>\n",
       "    <tr>\n",
       "      <td>540</td>\n",
       "      <td>ok im italian but there arent so many italian ...</td>\n",
       "      <td>0.029</td>\n",
       "      <td>0.646</td>\n",
       "      <td>0.325</td>\n",
       "      <td>0.9975</td>\n",
       "    </tr>\n",
       "    <tr>\n",
       "      <td>...</td>\n",
       "      <td>...</td>\n",
       "      <td>...</td>\n",
       "      <td>...</td>\n",
       "      <td>...</td>\n",
       "      <td>...</td>\n",
       "    </tr>\n",
       "    <tr>\n",
       "      <td>340</td>\n",
       "      <td>i find the critique of many imdb user a little...</td>\n",
       "      <td>0.128</td>\n",
       "      <td>0.865</td>\n",
       "      <td>0.007</td>\n",
       "      <td>-0.9628</td>\n",
       "    </tr>\n",
       "    <tr>\n",
       "      <td>756</td>\n",
       "      <td>a wellmade runofthemill movie with a tragic en...</td>\n",
       "      <td>0.118</td>\n",
       "      <td>0.882</td>\n",
       "      <td>0.000</td>\n",
       "      <td>-0.7906</td>\n",
       "    </tr>\n",
       "    <tr>\n",
       "      <td>836</td>\n",
       "      <td>the story have be tell before a deadly disease...</td>\n",
       "      <td>0.055</td>\n",
       "      <td>0.945</td>\n",
       "      <td>0.000</td>\n",
       "      <td>-0.4497</td>\n",
       "    </tr>\n",
       "    <tr>\n",
       "      <td>997</td>\n",
       "      <td>i hat it i hate selfaware pretentious inanity ...</td>\n",
       "      <td>0.192</td>\n",
       "      <td>0.808</td>\n",
       "      <td>0.000</td>\n",
       "      <td>-0.9371</td>\n",
       "    </tr>\n",
       "    <tr>\n",
       "      <td>414</td>\n",
       "      <td>a rating of do not begin to express how dull d...</td>\n",
       "      <td>0.386</td>\n",
       "      <td>0.614</td>\n",
       "      <td>0.000</td>\n",
       "      <td>-0.8316</td>\n",
       "    </tr>\n",
       "  </tbody>\n",
       "</table>\n",
       "<p>1000 rows × 5 columns</p>\n",
       "</div>"
      ],
      "text/plain": [
       "                                                  Text    neg    neu    pos  \\\n",
       "161  mystery men have get to be the stupid film ive...  0.100  0.449  0.450   \n",
       "10   if you like original gut wrench laughter you w...  0.100  0.524  0.376   \n",
       "382  this film be pretty good i be not too big a fa...  0.034  0.627  0.339   \n",
       "322  i have watch this movie countless time and nev...  0.000  0.666  0.334   \n",
       "540  ok im italian but there arent so many italian ...  0.029  0.646  0.325   \n",
       "..                                                 ...    ...    ...    ...   \n",
       "340  i find the critique of many imdb user a little...  0.128  0.865  0.007   \n",
       "756  a wellmade runofthemill movie with a tragic en...  0.118  0.882  0.000   \n",
       "836  the story have be tell before a deadly disease...  0.055  0.945  0.000   \n",
       "997  i hat it i hate selfaware pretentious inanity ...  0.192  0.808  0.000   \n",
       "414  a rating of do not begin to express how dull d...  0.386  0.614  0.000   \n",
       "\n",
       "     compound  \n",
       "161    0.9890  \n",
       "10     0.8910  \n",
       "382    0.9944  \n",
       "322    0.9827  \n",
       "540    0.9975  \n",
       "..        ...  \n",
       "340   -0.9628  \n",
       "756   -0.7906  \n",
       "836   -0.4497  \n",
       "997   -0.9371  \n",
       "414   -0.8316  \n",
       "\n",
       "[1000 rows x 5 columns]"
      ]
     },
     "execution_count": 53,
     "metadata": {},
     "output_type": "execute_result"
    }
   ],
   "source": [
    "pos_sent"
   ]
  },
  {
   "cell_type": "code",
   "execution_count": 54,
   "metadata": {},
   "outputs": [
    {
     "name": "stdout",
     "output_type": "stream",
     "text": [
      "mystery men have get to be the stupid film ive ever see but what a film i think it be fabulous excellent and impressive it be funny welldone and nice to see ridiculous super hero for a change and be able to pull it off this be great ill definitely watch it again\n"
     ]
    }
   ],
   "source": [
    "print(df['Text'].iloc[160] ) # sentence with index 160 has the highest positive score and is the most postive. "
   ]
  },
  {
   "cell_type": "markdown",
   "metadata": {},
   "source": [
    "## Finding top negative sentence in the data."
   ]
  },
  {
   "cell_type": "code",
   "execution_count": 55,
   "metadata": {},
   "outputs": [],
   "source": [
    "neg_sent=df.sort_values(by='neg', ascending=False)\n",
    "## Arranging the dataframe by negative column in descending order to find the best negative sentence."
   ]
  },
  {
   "cell_type": "code",
   "execution_count": 56,
   "metadata": {},
   "outputs": [
    {
     "data": {
      "text/html": [
       "<div>\n",
       "<style scoped>\n",
       "    .dataframe tbody tr th:only-of-type {\n",
       "        vertical-align: middle;\n",
       "    }\n",
       "\n",
       "    .dataframe tbody tr th {\n",
       "        vertical-align: top;\n",
       "    }\n",
       "\n",
       "    .dataframe thead th {\n",
       "        text-align: right;\n",
       "    }\n",
       "</style>\n",
       "<table border=\"1\" class=\"dataframe\">\n",
       "  <thead>\n",
       "    <tr style=\"text-align: right;\">\n",
       "      <th></th>\n",
       "      <th>Text</th>\n",
       "      <th>neg</th>\n",
       "      <th>neu</th>\n",
       "      <th>pos</th>\n",
       "      <th>compound</th>\n",
       "    </tr>\n",
       "  </thead>\n",
       "  <tbody>\n",
       "    <tr>\n",
       "      <td>414</td>\n",
       "      <td>a rating of do not begin to express how dull d...</td>\n",
       "      <td>0.386</td>\n",
       "      <td>0.614</td>\n",
       "      <td>0.000</td>\n",
       "      <td>-0.8316</td>\n",
       "    </tr>\n",
       "    <tr>\n",
       "      <td>737</td>\n",
       "      <td>baba rajinikanth will never forget this name i...</td>\n",
       "      <td>0.366</td>\n",
       "      <td>0.608</td>\n",
       "      <td>0.027</td>\n",
       "      <td>-0.9960</td>\n",
       "    </tr>\n",
       "    <tr>\n",
       "      <td>247</td>\n",
       "      <td>this show make absolutely no sense every week ...</td>\n",
       "      <td>0.365</td>\n",
       "      <td>0.583</td>\n",
       "      <td>0.052</td>\n",
       "      <td>-0.9986</td>\n",
       "    </tr>\n",
       "    <tr>\n",
       "      <td>282</td>\n",
       "      <td>after a very scary crude open which give you t...</td>\n",
       "      <td>0.331</td>\n",
       "      <td>0.614</td>\n",
       "      <td>0.055</td>\n",
       "      <td>-0.9906</td>\n",
       "    </tr>\n",
       "    <tr>\n",
       "      <td>555</td>\n",
       "      <td>if you watch pulp fiction dont see this movie ...</td>\n",
       "      <td>0.298</td>\n",
       "      <td>0.646</td>\n",
       "      <td>0.056</td>\n",
       "      <td>-0.9794</td>\n",
       "    </tr>\n",
       "    <tr>\n",
       "      <td>...</td>\n",
       "      <td>...</td>\n",
       "      <td>...</td>\n",
       "      <td>...</td>\n",
       "      <td>...</td>\n",
       "      <td>...</td>\n",
       "    </tr>\n",
       "    <tr>\n",
       "      <td>608</td>\n",
       "      <td>this film be quite simply illiant the cinemato...</td>\n",
       "      <td>0.000</td>\n",
       "      <td>0.921</td>\n",
       "      <td>0.079</td>\n",
       "      <td>0.7577</td>\n",
       "    </tr>\n",
       "    <tr>\n",
       "      <td>865</td>\n",
       "      <td>this film take you on one family impossible jo...</td>\n",
       "      <td>0.000</td>\n",
       "      <td>0.788</td>\n",
       "      <td>0.212</td>\n",
       "      <td>0.8655</td>\n",
       "    </tr>\n",
       "    <tr>\n",
       "      <td>864</td>\n",
       "      <td>a a huge baseball fan my scrutiny of this film...</td>\n",
       "      <td>0.000</td>\n",
       "      <td>0.796</td>\n",
       "      <td>0.204</td>\n",
       "      <td>0.8750</td>\n",
       "    </tr>\n",
       "    <tr>\n",
       "      <td>234</td>\n",
       "      <td>ive see this film literally over time ... it a...</td>\n",
       "      <td>0.000</td>\n",
       "      <td>0.855</td>\n",
       "      <td>0.145</td>\n",
       "      <td>0.9014</td>\n",
       "    </tr>\n",
       "    <tr>\n",
       "      <td>854</td>\n",
       "      <td>so real and surreal all in one i remember feel...</td>\n",
       "      <td>0.000</td>\n",
       "      <td>0.763</td>\n",
       "      <td>0.237</td>\n",
       "      <td>0.9432</td>\n",
       "    </tr>\n",
       "  </tbody>\n",
       "</table>\n",
       "<p>1000 rows × 5 columns</p>\n",
       "</div>"
      ],
      "text/plain": [
       "                                                  Text    neg    neu    pos  \\\n",
       "414  a rating of do not begin to express how dull d...  0.386  0.614  0.000   \n",
       "737  baba rajinikanth will never forget this name i...  0.366  0.608  0.027   \n",
       "247  this show make absolutely no sense every week ...  0.365  0.583  0.052   \n",
       "282  after a very scary crude open which give you t...  0.331  0.614  0.055   \n",
       "555  if you watch pulp fiction dont see this movie ...  0.298  0.646  0.056   \n",
       "..                                                 ...    ...    ...    ...   \n",
       "608  this film be quite simply illiant the cinemato...  0.000  0.921  0.079   \n",
       "865  this film take you on one family impossible jo...  0.000  0.788  0.212   \n",
       "864  a a huge baseball fan my scrutiny of this film...  0.000  0.796  0.204   \n",
       "234  ive see this film literally over time ... it a...  0.000  0.855  0.145   \n",
       "854  so real and surreal all in one i remember feel...  0.000  0.763  0.237   \n",
       "\n",
       "     compound  \n",
       "414   -0.8316  \n",
       "737   -0.9960  \n",
       "247   -0.9986  \n",
       "282   -0.9906  \n",
       "555   -0.9794  \n",
       "..        ...  \n",
       "608    0.7577  \n",
       "865    0.8655  \n",
       "864    0.8750  \n",
       "234    0.9014  \n",
       "854    0.9432  \n",
       "\n",
       "[1000 rows x 5 columns]"
      ]
     },
     "execution_count": 56,
     "metadata": {},
     "output_type": "execute_result"
    }
   ],
   "source": [
    "neg_sent"
   ]
  },
  {
   "cell_type": "code",
   "execution_count": 57,
   "metadata": {},
   "outputs": [
    {
     "name": "stdout",
     "output_type": "stream",
     "text": [
      "a rating of do not begin to express how dull depressing and relentlessly bad this movie be\n"
     ]
    }
   ],
   "source": [
    "print(df['Text'].iloc[413] )# sentence with index 413 has the highest negative score and is the most negative sentence "
   ]
  },
  {
   "cell_type": "code",
   "execution_count": 58,
   "metadata": {},
   "outputs": [],
   "source": [
    "sentences=df"
   ]
  },
  {
   "cell_type": "markdown",
   "metadata": {},
   "source": [
    "## Giving threshold values to classify if a given sentence is positive, negative or neutral in nature."
   ]
  },
  {
   "cell_type": "code",
   "execution_count": 59,
   "metadata": {},
   "outputs": [],
   "source": [
    "#Assigning score categories and logic\n",
    "i = 0\n",
    "\n",
    "predicted_value = [ ] #empty series to hold our predicted values\n",
    "\n",
    "while(i<len(sentences)):\n",
    "    if ((sentences.iloc[i]['compound'] >= 0.5)):\n",
    "        predicted_value.append('positive')\n",
    "        i = i+1\n",
    "    elif ((sentences.iloc[i]['compound'] > 0) & (sentences.iloc[i]['compound'] < 0.5)):\n",
    "        predicted_value.append('neutral')\n",
    "        i = i+1\n",
    "    elif ((sentences.iloc[i]['compound'] <= 0)):\n",
    "        predicted_value.append('negative')\n",
    "        i = i+1\n",
    "## The threshold value will categorize if a given sentence is positive negative or neutral in nature.        "
   ]
  },
  {
   "cell_type": "markdown",
   "metadata": {},
   "source": [
    "### Adding the target or sentiment column to our data frame."
   ]
  },
  {
   "cell_type": "code",
   "execution_count": 61,
   "metadata": {},
   "outputs": [],
   "source": [
    "df['Target'] = predicted_value \n",
    "## A new column has been created called as 'Target' with sentiments assigned to a given text."
   ]
  },
  {
   "cell_type": "code",
   "execution_count": 62,
   "metadata": {},
   "outputs": [
    {
     "data": {
      "text/html": [
       "<div>\n",
       "<style scoped>\n",
       "    .dataframe tbody tr th:only-of-type {\n",
       "        vertical-align: middle;\n",
       "    }\n",
       "\n",
       "    .dataframe tbody tr th {\n",
       "        vertical-align: top;\n",
       "    }\n",
       "\n",
       "    .dataframe thead th {\n",
       "        text-align: right;\n",
       "    }\n",
       "</style>\n",
       "<table border=\"1\" class=\"dataframe\">\n",
       "  <thead>\n",
       "    <tr style=\"text-align: right;\">\n",
       "      <th></th>\n",
       "      <th>Text</th>\n",
       "      <th>neg</th>\n",
       "      <th>neu</th>\n",
       "      <th>pos</th>\n",
       "      <th>compound</th>\n",
       "      <th>Target</th>\n",
       "    </tr>\n",
       "  </thead>\n",
       "  <tbody>\n",
       "    <tr>\n",
       "      <td>1</td>\n",
       "      <td>one of the other reviewer have mention that af...</td>\n",
       "      <td>0.172</td>\n",
       "      <td>0.759</td>\n",
       "      <td>0.070</td>\n",
       "      <td>-0.9897</td>\n",
       "      <td>negative</td>\n",
       "    </tr>\n",
       "    <tr>\n",
       "      <td>2</td>\n",
       "      <td>a wonderful little production the filming tech...</td>\n",
       "      <td>0.049</td>\n",
       "      <td>0.767</td>\n",
       "      <td>0.184</td>\n",
       "      <td>0.9711</td>\n",
       "      <td>positive</td>\n",
       "    </tr>\n",
       "    <tr>\n",
       "      <td>3</td>\n",
       "      <td>i think this be a wonderful way to spend time ...</td>\n",
       "      <td>0.102</td>\n",
       "      <td>0.673</td>\n",
       "      <td>0.225</td>\n",
       "      <td>0.9748</td>\n",
       "      <td>positive</td>\n",
       "    </tr>\n",
       "    <tr>\n",
       "      <td>4</td>\n",
       "      <td>basically theres a family where a little boy j...</td>\n",
       "      <td>0.131</td>\n",
       "      <td>0.803</td>\n",
       "      <td>0.067</td>\n",
       "      <td>-0.9080</td>\n",
       "      <td>negative</td>\n",
       "    </tr>\n",
       "    <tr>\n",
       "      <td>5</td>\n",
       "      <td>petter matteis love in the time of money be a ...</td>\n",
       "      <td>0.052</td>\n",
       "      <td>0.800</td>\n",
       "      <td>0.148</td>\n",
       "      <td>0.9744</td>\n",
       "      <td>positive</td>\n",
       "    </tr>\n",
       "  </tbody>\n",
       "</table>\n",
       "</div>"
      ],
      "text/plain": [
       "                                                Text    neg    neu    pos  \\\n",
       "1  one of the other reviewer have mention that af...  0.172  0.759  0.070   \n",
       "2  a wonderful little production the filming tech...  0.049  0.767  0.184   \n",
       "3  i think this be a wonderful way to spend time ...  0.102  0.673  0.225   \n",
       "4  basically theres a family where a little boy j...  0.131  0.803  0.067   \n",
       "5  petter matteis love in the time of money be a ...  0.052  0.800  0.148   \n",
       "\n",
       "   compound    Target  \n",
       "1   -0.9897  negative  \n",
       "2    0.9711  positive  \n",
       "3    0.9748  positive  \n",
       "4   -0.9080  negative  \n",
       "5    0.9744  positive  "
      ]
     },
     "execution_count": 62,
     "metadata": {},
     "output_type": "execute_result"
    }
   ],
   "source": [
    "df.head()"
   ]
  },
  {
   "cell_type": "markdown",
   "metadata": {},
   "source": [
    "### Removing/dropping the 'neg', 'neu', 'pos', and 'compound' columns."
   ]
  },
  {
   "cell_type": "code",
   "execution_count": 63,
   "metadata": {},
   "outputs": [],
   "source": [
    "df.drop(['neg','neu','pos','compound'],axis=1,inplace=True)\n",
    "## Dropping the neg, neu, pos, and compound columns."
   ]
  },
  {
   "cell_type": "code",
   "execution_count": 64,
   "metadata": {},
   "outputs": [
    {
     "data": {
      "text/html": [
       "<div>\n",
       "<style scoped>\n",
       "    .dataframe tbody tr th:only-of-type {\n",
       "        vertical-align: middle;\n",
       "    }\n",
       "\n",
       "    .dataframe tbody tr th {\n",
       "        vertical-align: top;\n",
       "    }\n",
       "\n",
       "    .dataframe thead th {\n",
       "        text-align: right;\n",
       "    }\n",
       "</style>\n",
       "<table border=\"1\" class=\"dataframe\">\n",
       "  <thead>\n",
       "    <tr style=\"text-align: right;\">\n",
       "      <th></th>\n",
       "      <th>Text</th>\n",
       "      <th>Target</th>\n",
       "    </tr>\n",
       "  </thead>\n",
       "  <tbody>\n",
       "    <tr>\n",
       "      <td>1</td>\n",
       "      <td>one of the other reviewer have mention that af...</td>\n",
       "      <td>negative</td>\n",
       "    </tr>\n",
       "    <tr>\n",
       "      <td>2</td>\n",
       "      <td>a wonderful little production the filming tech...</td>\n",
       "      <td>positive</td>\n",
       "    </tr>\n",
       "    <tr>\n",
       "      <td>3</td>\n",
       "      <td>i think this be a wonderful way to spend time ...</td>\n",
       "      <td>positive</td>\n",
       "    </tr>\n",
       "    <tr>\n",
       "      <td>4</td>\n",
       "      <td>basically theres a family where a little boy j...</td>\n",
       "      <td>negative</td>\n",
       "    </tr>\n",
       "    <tr>\n",
       "      <td>5</td>\n",
       "      <td>petter matteis love in the time of money be a ...</td>\n",
       "      <td>positive</td>\n",
       "    </tr>\n",
       "    <tr>\n",
       "      <td>...</td>\n",
       "      <td>...</td>\n",
       "      <td>...</td>\n",
       "    </tr>\n",
       "    <tr>\n",
       "      <td>996</td>\n",
       "      <td>nothing be sacred just ask ernie fosselius the...</td>\n",
       "      <td>negative</td>\n",
       "    </tr>\n",
       "    <tr>\n",
       "      <td>997</td>\n",
       "      <td>i hat it i hate selfaware pretentious inanity ...</td>\n",
       "      <td>negative</td>\n",
       "    </tr>\n",
       "    <tr>\n",
       "      <td>998</td>\n",
       "      <td>i usually try to be professional and construct...</td>\n",
       "      <td>negative</td>\n",
       "    </tr>\n",
       "    <tr>\n",
       "      <td>999</td>\n",
       "      <td>if you like me be go to see this in a film his...</td>\n",
       "      <td>negative</td>\n",
       "    </tr>\n",
       "    <tr>\n",
       "      <td>1000</td>\n",
       "      <td>this be like a zoology textbook give that it d...</td>\n",
       "      <td>negative</td>\n",
       "    </tr>\n",
       "  </tbody>\n",
       "</table>\n",
       "<p>1000 rows × 2 columns</p>\n",
       "</div>"
      ],
      "text/plain": [
       "                                                   Text    Target\n",
       "1     one of the other reviewer have mention that af...  negative\n",
       "2     a wonderful little production the filming tech...  positive\n",
       "3     i think this be a wonderful way to spend time ...  positive\n",
       "4     basically theres a family where a little boy j...  negative\n",
       "5     petter matteis love in the time of money be a ...  positive\n",
       "...                                                 ...       ...\n",
       "996   nothing be sacred just ask ernie fosselius the...  negative\n",
       "997   i hat it i hate selfaware pretentious inanity ...  negative\n",
       "998   i usually try to be professional and construct...  negative\n",
       "999   if you like me be go to see this in a film his...  negative\n",
       "1000  this be like a zoology textbook give that it d...  negative\n",
       "\n",
       "[1000 rows x 2 columns]"
      ]
     },
     "execution_count": 64,
     "metadata": {},
     "output_type": "execute_result"
    }
   ],
   "source": [
    "df\n",
    "## Final dataframe with sentiments."
   ]
  },
  {
   "cell_type": "code",
   "execution_count": 65,
   "metadata": {},
   "outputs": [
    {
     "data": {
      "text/plain": [
       "positive    568\n",
       "negative    369\n",
       "neutral      63\n",
       "Name: Target, dtype: int64"
      ]
     },
     "execution_count": 65,
     "metadata": {},
     "output_type": "execute_result"
    }
   ],
   "source": [
    "df['Target'].value_counts()\n",
    "### There are 568 positive, 369 negative and 63 neutral columns present in the dataset."
   ]
  },
  {
   "cell_type": "code",
   "execution_count": 66,
   "metadata": {},
   "outputs": [
    {
     "data": {
      "text/plain": [
       "Text      object\n",
       "Target     int32\n",
       "dtype: object"
      ]
     },
     "execution_count": 66,
     "metadata": {},
     "output_type": "execute_result"
    }
   ],
   "source": [
    "cat_cols=['Target']\n",
    "le=LabelEncoder()\n",
    "for i in cat_cols:\n",
    "    df[i]=le.fit_transform(df[i])\n",
    "df.dtypes\n",
    "### Label Encoding the target column."
   ]
  },
  {
   "cell_type": "code",
   "execution_count": 67,
   "metadata": {},
   "outputs": [
    {
     "data": {
      "text/plain": [
       "2    568\n",
       "0    369\n",
       "1     63\n",
       "Name: Target, dtype: int64"
      ]
     },
     "execution_count": 67,
     "metadata": {},
     "output_type": "execute_result"
    }
   ],
   "source": [
    "df['Target'].value_counts()\n",
    "## Label encoded value_counts()"
   ]
  },
  {
   "cell_type": "code",
   "execution_count": 68,
   "metadata": {},
   "outputs": [
    {
     "data": {
      "text/html": [
       "<div>\n",
       "<style scoped>\n",
       "    .dataframe tbody tr th:only-of-type {\n",
       "        vertical-align: middle;\n",
       "    }\n",
       "\n",
       "    .dataframe tbody tr th {\n",
       "        vertical-align: top;\n",
       "    }\n",
       "\n",
       "    .dataframe thead th {\n",
       "        text-align: right;\n",
       "    }\n",
       "</style>\n",
       "<table border=\"1\" class=\"dataframe\">\n",
       "  <thead>\n",
       "    <tr style=\"text-align: right;\">\n",
       "      <th></th>\n",
       "      <th>Text</th>\n",
       "      <th>Target</th>\n",
       "    </tr>\n",
       "  </thead>\n",
       "  <tbody>\n",
       "    <tr>\n",
       "      <td>1</td>\n",
       "      <td>one of the other reviewer have mention that af...</td>\n",
       "      <td>0</td>\n",
       "    </tr>\n",
       "    <tr>\n",
       "      <td>2</td>\n",
       "      <td>a wonderful little production the filming tech...</td>\n",
       "      <td>2</td>\n",
       "    </tr>\n",
       "    <tr>\n",
       "      <td>3</td>\n",
       "      <td>i think this be a wonderful way to spend time ...</td>\n",
       "      <td>2</td>\n",
       "    </tr>\n",
       "    <tr>\n",
       "      <td>4</td>\n",
       "      <td>basically theres a family where a little boy j...</td>\n",
       "      <td>0</td>\n",
       "    </tr>\n",
       "    <tr>\n",
       "      <td>5</td>\n",
       "      <td>petter matteis love in the time of money be a ...</td>\n",
       "      <td>2</td>\n",
       "    </tr>\n",
       "    <tr>\n",
       "      <td>...</td>\n",
       "      <td>...</td>\n",
       "      <td>...</td>\n",
       "    </tr>\n",
       "    <tr>\n",
       "      <td>996</td>\n",
       "      <td>nothing be sacred just ask ernie fosselius the...</td>\n",
       "      <td>0</td>\n",
       "    </tr>\n",
       "    <tr>\n",
       "      <td>997</td>\n",
       "      <td>i hat it i hate selfaware pretentious inanity ...</td>\n",
       "      <td>0</td>\n",
       "    </tr>\n",
       "    <tr>\n",
       "      <td>998</td>\n",
       "      <td>i usually try to be professional and construct...</td>\n",
       "      <td>0</td>\n",
       "    </tr>\n",
       "    <tr>\n",
       "      <td>999</td>\n",
       "      <td>if you like me be go to see this in a film his...</td>\n",
       "      <td>0</td>\n",
       "    </tr>\n",
       "    <tr>\n",
       "      <td>1000</td>\n",
       "      <td>this be like a zoology textbook give that it d...</td>\n",
       "      <td>0</td>\n",
       "    </tr>\n",
       "  </tbody>\n",
       "</table>\n",
       "<p>1000 rows × 2 columns</p>\n",
       "</div>"
      ],
      "text/plain": [
       "                                                   Text  Target\n",
       "1     one of the other reviewer have mention that af...       0\n",
       "2     a wonderful little production the filming tech...       2\n",
       "3     i think this be a wonderful way to spend time ...       2\n",
       "4     basically theres a family where a little boy j...       0\n",
       "5     petter matteis love in the time of money be a ...       2\n",
       "...                                                 ...     ...\n",
       "996   nothing be sacred just ask ernie fosselius the...       0\n",
       "997   i hat it i hate selfaware pretentious inanity ...       0\n",
       "998   i usually try to be professional and construct...       0\n",
       "999   if you like me be go to see this in a film his...       0\n",
       "1000  this be like a zoology textbook give that it d...       0\n",
       "\n",
       "[1000 rows x 2 columns]"
      ]
     },
     "execution_count": 68,
     "metadata": {},
     "output_type": "execute_result"
    }
   ],
   "source": [
    "df"
   ]
  },
  {
   "cell_type": "code",
   "execution_count": 69,
   "metadata": {},
   "outputs": [],
   "source": [
    "# Vectorizing training data. \n",
    "tfidf = TfidfVectorizer() \n",
    "X = tfidf.fit_transform(df['Text'])\n",
    "Y = df['Target']\n",
    "## Applying Tf-Idf vectorizer on the Text column."
   ]
  },
  {
   "cell_type": "code",
   "execution_count": 70,
   "metadata": {},
   "outputs": [
    {
     "name": "stdout",
     "output_type": "stream",
     "text": [
      "(800, 16181) (200, 16181) (800,) (200,)\n"
     ]
    }
   ],
   "source": [
    "X_train,X_test,Y_train,Y_test=train_test_split(X,Y,test_size=0.2,random_state=40)\n",
    "print(X_train.shape,X_test.shape,Y_train.shape,Y_test.shape)\n",
    "### Splitting the dataset."
   ]
  },
  {
   "cell_type": "markdown",
   "metadata": {},
   "source": [
    "### Logistic Regression"
   ]
  },
  {
   "cell_type": "code",
   "execution_count": 71,
   "metadata": {},
   "outputs": [
    {
     "name": "stdout",
     "output_type": "stream",
     "text": [
      "Model accuracy on train is:  0.9175\n",
      "Model accuracy on test is:  0.65\n"
     ]
    }
   ],
   "source": [
    "log_reg = LogisticRegression().fit(X_train, Y_train)\n",
    "\n",
    "#predict on train \n",
    "train_preds = log_reg.predict(X_train)\n",
    "#accuracy on train\n",
    "print(\"Model accuracy on train is: \", accuracy_score(Y_train, train_preds))\n",
    "\n",
    "#predict on test\n",
    "test_preds = log_reg.predict(X_test)\n",
    "#accuracy on test\n",
    "print(\"Model accuracy on test is: \", accuracy_score(Y_test, test_preds))"
   ]
  },
  {
   "cell_type": "code",
   "execution_count": 72,
   "metadata": {},
   "outputs": [],
   "source": [
    "from sklearn.tree import DecisionTreeClassifier\n",
    "from sklearn.ensemble import RandomForestClassifier\n",
    "from sklearn.neighbors import KNeighborsClassifier\n",
    "from sklearn.svm import SVC\n",
    "from sklearn import metrics\n",
    "from sklearn.metrics import accuracy_score, auc, confusion_matrix, roc_auc_score, roc_curve, recall_score"
   ]
  },
  {
   "cell_type": "markdown",
   "metadata": {},
   "source": [
    "## Decision Tree Classifier"
   ]
  },
  {
   "cell_type": "code",
   "execution_count": 73,
   "metadata": {},
   "outputs": [],
   "source": [
    "DT = DecisionTreeClassifier().fit(X,Y)"
   ]
  },
  {
   "cell_type": "code",
   "execution_count": 74,
   "metadata": {},
   "outputs": [
    {
     "name": "stdout",
     "output_type": "stream",
     "text": [
      "Model accuracy on train is:  1.0\n",
      "Model accuracy on test is:  1.0\n",
      "--------------------------------------------------\n",
      "confusion_matrix train is:  [[285   0   0]\n",
      " [  0  53   0]\n",
      " [  0   0 462]]\n",
      "confusion_matrix test is:  [[ 84   0   0]\n",
      " [  0  10   0]\n",
      " [  0   0 106]]\n",
      "Wrong predictions out of total\n",
      "--------------------------------------------------\n",
      "0 / 200\n",
      "--------------------------------------------------\n",
      "KappaScore is:  1.0\n"
     ]
    }
   ],
   "source": [
    "#predict on train \n",
    "train_preds2 = DT.predict(X_train)\n",
    "#accuracy on train\n",
    "print(\"Model accuracy on train is: \", accuracy_score(Y_train, train_preds2))\n",
    "\n",
    "#predict on test\n",
    "test_preds2 = DT.predict(X_test)\n",
    "#accuracy on test\n",
    "print(\"Model accuracy on test is: \", accuracy_score(Y_test, test_preds2))\n",
    "print('-'*50)\n",
    "\n",
    "#Confusion matrix\n",
    "print(\"confusion_matrix train is: \", confusion_matrix(Y_train, train_preds2))\n",
    "print(\"confusion_matrix test is: \", confusion_matrix(Y_test, test_preds2))\n",
    "print('Wrong predictions out of total')\n",
    "print('-'*50)\n",
    "\n",
    "# Wrong Predictions made.\n",
    "print((Y_test !=test_preds2).sum(),'/',((Y_test == test_preds2).sum()+(Y_test != test_preds2).sum()))\n",
    "print('-'*50)\n",
    "\n",
    "# Kappa Score\n",
    "print('KappaScore is: ', metrics.cohen_kappa_score(Y_test,test_preds2))"
   ]
  },
  {
   "cell_type": "code",
   "execution_count": 75,
   "metadata": {},
   "outputs": [
    {
     "name": "stdout",
     "output_type": "stream",
     "text": [
      "Model accuracy on train is:  1.0\n",
      "Model accuracy on test is:  0.6\n",
      "--------------------------------------------------\n",
      "confusion_matrix train is:  [[285   0   0]\n",
      " [  0  53   0]\n",
      " [  0   0 462]]\n",
      "confusion_matrix test is:  [[ 16   0  68]\n",
      " [  0   0  10]\n",
      " [  2   0 104]]\n",
      "Wrong predictions out of total\n",
      "--------------------------------------------------\n",
      "80 / 200\n",
      "--------------------------------------------------\n"
     ]
    }
   ],
   "source": [
    "#fit the model on train data \n",
    "RF=RandomForestClassifier().fit(X_train,Y_train)\n",
    "#predict on train \n",
    "train_preds3 = RF.predict(X_train)\n",
    "#accuracy on train\n",
    "print(\"Model accuracy on train is: \", accuracy_score(Y_train, train_preds3))\n",
    "\n",
    "#predict on test\n",
    "test_preds3 = RF.predict(X_test)\n",
    "#accuracy on test\n",
    "print(\"Model accuracy on test is: \", accuracy_score(Y_test, test_preds3))\n",
    "print('-'*50)\n",
    "\n",
    "#Confusion matrix\n",
    "print(\"confusion_matrix train is: \", confusion_matrix(Y_train, train_preds3))\n",
    "print(\"confusion_matrix test is: \", confusion_matrix(Y_test, test_preds3))\n",
    "print('Wrong predictions out of total')\n",
    "print('-'*50)\n",
    "\n",
    "# Wrong Predictions made.\n",
    "print((Y_test !=test_preds3).sum(),'/',((Y_test == test_preds3).sum()+(Y_test != test_preds3).sum()))\n",
    "print('-'*50)"
   ]
  },
  {
   "cell_type": "code",
   "execution_count": 76,
   "metadata": {},
   "outputs": [
    {
     "name": "stdout",
     "output_type": "stream",
     "text": [
      "Model accuracy on train is:  0.71375\n",
      "Model accuracy on test is:  0.55\n",
      "--------------------------------------------------\n",
      "confusion_matrix train is:  [[117   0 168]\n",
      " [ 15   3  35]\n",
      " [ 11   0 451]]\n",
      "confusion_matrix test is:  [[13  0 71]\n",
      " [ 1  0  9]\n",
      " [ 9  0 97]]\n",
      "Wrong predictions out of total\n",
      "--------------------------------------------------\n",
      "90 / 200\n",
      "--------------------------------------------------\n"
     ]
    }
   ],
   "source": [
    "#fit the model on train data \n",
    "KNN = KNeighborsClassifier().fit(X_train,Y_train)\n",
    "#predict on train \n",
    "train_preds4 = KNN.predict(X_train)\n",
    "#accuracy on train\n",
    "print(\"Model accuracy on train is: \", accuracy_score(Y_train, train_preds4))\n",
    "\n",
    "#predict on test\n",
    "test_preds4 = KNN.predict(X_test)\n",
    "#accuracy on test\n",
    "print(\"Model accuracy on test is: \", accuracy_score(Y_test, test_preds4))\n",
    "print('-'*50)\n",
    "\n",
    "#Confusion matrix\n",
    "print(\"confusion_matrix train is: \", confusion_matrix(Y_train, train_preds4))\n",
    "print(\"confusion_matrix test is: \", confusion_matrix(Y_test, test_preds4))\n",
    "print('Wrong predictions out of total')\n",
    "print('-'*50)\n",
    "\n",
    "# Wrong Predictions made.\n",
    "print((Y_test !=test_preds4).sum(),'/',((Y_test == test_preds4).sum()+(Y_test != test_preds4).sum()))\n",
    "print('-'*50)"
   ]
  },
  {
   "cell_type": "markdown",
   "metadata": {},
   "source": [
    "# Support Vector Machine"
   ]
  },
  {
   "cell_type": "code",
   "execution_count": 77,
   "metadata": {},
   "outputs": [
    {
     "name": "stdout",
     "output_type": "stream",
     "text": [
      "Model accuracy on train is:  0.94375\n",
      "Model accuracy on test is:  0.695\n",
      "--------------------------------------------------\n",
      "confusion_matrix train is:  [[279   0   6]\n",
      " [  6  14  33]\n",
      " [  0   0 462]]\n",
      "confusion_matrix test is:  [[ 39   0  45]\n",
      " [  2   0   8]\n",
      " [  6   0 100]]\n",
      "Wrong predictions out of total\n",
      "--------------------------------------------------\n",
      "61 / 200\n",
      "--------------------------------------------------\n"
     ]
    }
   ],
   "source": [
    "#fit the model on train data \n",
    "SVM = SVC(kernel='linear')\n",
    "SVM.fit(X_train, Y_train)\n",
    "\n",
    "#predict on train \n",
    "train_preds5 = SVM.predict(X_train)\n",
    "#accuracy on train\n",
    "print(\"Model accuracy on train is: \", accuracy_score(Y_train, train_preds5))\n",
    "\n",
    "#predict on test\n",
    "test_preds5 = SVM.predict(X_test)\n",
    "#accuracy on test\n",
    "print(\"Model accuracy on test is: \", accuracy_score(Y_test, test_preds5))\n",
    "print('-'*50)\n",
    "\n",
    "#Confusion matrix\n",
    "print(\"confusion_matrix train is: \", confusion_matrix(Y_train, train_preds5))\n",
    "print(\"confusion_matrix test is: \", confusion_matrix(Y_test, test_preds5))\n",
    "print('Wrong predictions out of total')\n",
    "print('-'*50)\n",
    "\n",
    "# Wrong Predictions made.\n",
    "print((Y_test !=test_preds5).sum(),'/',((Y_test == test_preds5).sum()+(Y_test != test_preds5).sum()))\n",
    "print('-'*50)"
   ]
  },
  {
   "cell_type": "code",
   "execution_count": null,
   "metadata": {},
   "outputs": [],
   "source": []
  }
 ],
 "metadata": {
  "kernelspec": {
   "display_name": "Python 3.10.1 64-bit",
   "language": "python",
   "name": "python3"
  },
  "language_info": {
   "codemirror_mode": {
    "name": "ipython",
    "version": 3
   },
   "file_extension": ".py",
   "mimetype": "text/x-python",
   "name": "python",
   "nbconvert_exporter": "python",
   "pygments_lexer": "ipython3",
   "version": "3.10.1"
  },
  "vscode": {
   "interpreter": {
    "hash": "26de051ba29f2982a8de78e945f0abaf191376122a1563185a90213a26c5da77"
   }
  }
 },
 "nbformat": 4,
 "nbformat_minor": 2
}
